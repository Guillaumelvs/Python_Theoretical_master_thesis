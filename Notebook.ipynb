{
 "cells": [
  {
   "cell_type": "markdown",
   "metadata": {},
   "source": [
    "## Import des librairies"
   ]
  },
  {
   "cell_type": "code",
   "execution_count": 106,
   "metadata": {},
   "outputs": [],
   "source": [
    "import numpy as np\n",
    "import os\n",
    "import pandas as pd\n",
    "from sklearn.model_selection import train_test_split\n",
    "from sklearn.metrics import accuracy_score\n",
    "from sklearn.metrics import make_scorer\n",
    "from sklearn.preprocessing import StandardScaler\n",
    "from sklearn.pipeline import Pipeline\n",
    "from sklearn.neighbors import KNeighborsClassifier\n",
    "import matplotlib.pyplot as plt \n",
    "import plotly.graph_objects as go"
   ]
  },
  {
   "cell_type": "markdown",
   "metadata": {},
   "source": [
    "# 1.Pre-Processing"
   ]
  },
  {
   "cell_type": "markdown",
   "metadata": {},
   "source": [
    "## Import du dataset"
   ]
  },
  {
   "cell_type": "code",
   "execution_count": 63,
   "metadata": {},
   "outputs": [
    {
     "name": "stderr",
     "output_type": "stream",
     "text": [
      "C:\\Users\\Utilisateur\\anaconda3\\lib\\site-packages\\IPython\\core\\interactiveshell.py:3147: DtypeWarning: Columns (12,15,16,17,18,38) have mixed types.Specify dtype option on import or set low_memory=False.\n",
      "  interactivity=interactivity, compiler=compiler, result=result)\n"
     ]
    }
   ],
   "source": [
    "df = pd.read_csv('data_2000_2020.csv')"
   ]
  },
  {
   "cell_type": "markdown",
   "metadata": {},
   "source": [
    "## Colonnes à supprimer"
   ]
  },
  {
   "cell_type": "code",
   "execution_count": 64,
   "metadata": {},
   "outputs": [],
   "source": [
    "liste = ['W1', 'L1', 'W2', 'L2', 'W3', 'L3', 'W4', 'L4', 'W5', 'L5','Wsets', 'Lsets','Location', 'Tournament', 'MaxW', 'MaxL', 'AvgW', 'AvgL']\n",
    "df = df.drop(liste, axis = 1)\n",
    "#We drop these columns either because they contain info that are not available before the tennis game takes place \n",
    "#or because they contain too many values that would make the number of columns after the one-hot encoding way too big."
   ]
  },
  {
   "cell_type": "code",
   "execution_count": 65,
   "metadata": {},
   "outputs": [],
   "source": [
    "#This function allows us to get a list of the colums with the number of values, the number of null values and their type.\n",
    "#The argument 'only_empty = True' makes the function send back only columns that have null values\n",
    "def get_info_columns(df,only_empty=True):\n",
    "    df_info=pd.DataFrame()\n",
    "    cols=[]\n",
    "    isnull=[]\n",
    "    count_values=[]\n",
    "    type_cols=[]\n",
    "    for col in df.columns:\n",
    "        if only_empty:\n",
    "            if df[col].isnull().sum() >0:\n",
    "                if col==\"Location\":\n",
    "                    cols.append(col)\n",
    "                    isnull.append(df[col].isnull().sum())\n",
    "                    count_values.append(len(df[col].value_counts()))\n",
    "                    type_cols.append(df[col].dtype)\n",
    "                    #print(\"*\"*5,'\\n',\"col:\",col,\"\\nNulles\",df[col].isnull().sum(),\"\\nvalue counts\",len(df[col].value_counts()),\"\\ntype\",df[col].dtype,\"\\n\")\n",
    "                else:\n",
    "                    cols.append(col)\n",
    "                    isnull.append(df[col].isnull().sum())\n",
    "                    count_values.append(len(df[col].value_counts()))\n",
    "                    type_cols.append(df[col].dtype)\n",
    "    df_info[\"cols\"]=cols\n",
    "    df_info[\"isnull\"]=isnull\n",
    "    df_info[\"count_values\"]=count_values\n",
    "    df_info[\"type_cols\"]=type_cols\n",
    "\n",
    "    return df_info"
   ]
  },
  {
   "cell_type": "code",
   "execution_count": 66,
   "metadata": {},
   "outputs": [],
   "source": [
    "info = get_info_columns(df,only_empty=False)"
   ]
  },
  {
   "cell_type": "markdown",
   "metadata": {},
   "source": [
    "## Traitement de \"la variable joueurs\""
   ]
  },
  {
   "cell_type": "markdown",
   "metadata": {},
   "source": [
    "20 premiers -> garde leur noms 20-50 -> \"classé-20-50\" 50-100 -> \"classé-20-50\" 100-200 -> \"classé-100-200\" 200-500 -> \"classé-200-500\" 500-1000 -> \"classé-500-1000\"\n"
   ]
  },
  {
   "cell_type": "code",
   "execution_count": 67,
   "metadata": {},
   "outputs": [],
   "source": [
    "df[\"LRank\"] = pd.to_numeric(df[\"LRank\"], errors='coerce')\n",
    "df.loc[(df['WRank'] > 15) & (df['WRank'] <= 25),'Winner'] = \"classé-15-25\"\n",
    "df.loc[(df['WRank'] > 25) & (df['WRank'] <= 50),'Winner'] = \"classé-25-50\"\n",
    "df.loc[(df['WRank'] > 50) & (df['WRank'] <= 100),'Winner'] = \"classé-50-100\"\n",
    "df.loc[(df['WRank'] > 100) & (df['WRank'] <= 200),'Winner'] = \"classé-100-200\"\n",
    "df.loc[(df['WRank'] > 200) & (df['WRank'] <= 500),'Winner'] = \"classé-200-500\"\n",
    "df.loc[(df['WRank'] > 500) & (df['WRank'] <= 1000),'Winner'] = \"classé-500-1000\"\n",
    "df.loc[(df['WRank'] >1000),'Winner'] = \"classé-plus-de-1000\"\n",
    "df.loc[(df['LRank'] > 15) & (df['LRank'] <= 25),'Loser'] = \"classé-15-25\"\n",
    "df.loc[(df['LRank'] > 25) & (df['LRank'] <= 50),'Loser'] = \"classé-25-50\"\n",
    "df.loc[(df['LRank'] > 50) & (df['LRank'] <= 100),'Loser'] = \"classé-50-100\"\n",
    "df.loc[(df['LRank'] > 100) & (df['LRank'] <= 200),'Loser'] = \"classé-100-200\"\n",
    "df.loc[(df['LRank'] > 200) & (df['LRank'] <= 500),'Loser'] = \"classé-200-500\"\n",
    "df.loc[(df['LRank'] > 500) & (df['LRank'] <= 1000),'Loser'] = \"classé-500-1000\"\n",
    "df.loc[(df['LRank'] >1000),'Loser'] = \"classé-plus-de-1000\""
   ]
  },
  {
   "cell_type": "markdown",
   "metadata": {},
   "source": [
    "Traitement du problème de format des noms des joueurs dû à la fusion de plusieurs bases de données (blanc avant ou après le nom...)"
   ]
  },
  {
   "cell_type": "code",
   "execution_count": 68,
   "metadata": {},
   "outputs": [],
   "source": [
    "df.loc[(df['Winner'] == 'Djokovic N. '), 'Winner'] = 'Djokovic N.'\n",
    "df.loc[(df['Winner'] == 'Federer R. '), 'Winner'] = 'Federer R.'\n",
    "df.loc[(df['Winner'] == 'Nadal R. '), 'Winner'] = 'Nadal R.'\n",
    "df.loc[(df['Winner'] == 'Murray A. '), 'Winner'] = 'Murray A.'\n",
    "df.loc[(df['Winner'] == 'Roddick A. '), 'Winner'] = 'Roddick A.'\n",
    "df.loc[(df['Winner'] == 'Davydenko N. '), 'Winner'] = 'Davydenko N.'\n",
    "df.loc[(df['Winner'] == 'Verdasco F. '), 'Winner'] = 'Verdasco F.'\n",
    "df.loc[(df['Winner'] == 'Ferrero J.C. '), 'Winner'] = 'Ferrero J.C.'\n",
    "df.loc[(df['Winner'] == 'Simon G. '), 'Winner'] = 'Simon G.'\n",
    "df.loc[(df['Winner'] == 'Cilic M. '), 'Winner'] = 'Cilic M.'\n",
    "df.loc[(df['Winner'] == 'Thiem D. '), 'Winner'] = 'Thiem D.'\n",
    "df.loc[(df['Winner'] == 'Robredo T. '), 'Winner'] = 'Robredo T.'\n",
    "df.loc[(df['Winner'] == 'Zverev A. '), 'Winner'] = 'Zverev A.'\n",
    "df.loc[(df['Winner'] == 'Stepanek R. '), 'Winner'] = 'Stepanek R.'\n",
    "df.loc[(df['Winner'] == 'Tsitsipas S. '), 'Winner'] = 'Tsitsipas S.'\n",
    "df.loc[(df['Winner'] == 'Bautista Agut R.'), 'Winner'] = 'Bautista R.'\n",
    "df.loc[(df['Winner'] == 'Berrettini M. '), 'Winner'] = 'Berrettini M.'\n",
    "df.loc[(df['Winner'] == 'Stepanek R. '), 'Winner'] = 'Stepanek R.'\n",
    "df.loc[(df['Loser'] == 'Djokovic N. '), 'Loser'] = 'Djokovic N.'\n",
    "df.loc[(df['Loser'] == 'Federer R. '), 'Loser'] = 'Federer R.'\n",
    "df.loc[(df['Loser'] == 'Nadal R. '), 'Loser'] = 'Nadal R.'\n",
    "df.loc[(df['Loser'] == 'Murray A. '), 'Loser'] = 'Murray A.'\n",
    "df.loc[(df['Loser'] == 'Roddick A. '), 'Loser'] = 'Roddick A.'\n",
    "df.loc[(df['Loser'] == 'Davydenko N. '), 'Loser'] = 'Davydenko N.'\n",
    "df.loc[(df['Loser'] == 'Verdasco F. '), 'Loser'] = 'Verdasco F.'\n",
    "df.loc[(df['Loser'] == 'Ferrero J.C. '), 'Loser'] = 'Ferrero J.C.'\n",
    "df.loc[(df['Loser'] == 'Simon G. '), 'Loser'] = 'Simon G.'\n",
    "df.loc[(df['Loser'] == 'Cilic M. '), 'Loser'] = 'Cilic M.'\n",
    "df.loc[(df['Loser'] == 'Thiem D. '), 'Loser'] = 'Thiem D.'\n",
    "df.loc[(df['Loser'] == 'Robredo T. '), 'Loser'] = 'Robredo T.'\n",
    "df.loc[(df['Loser'] == 'Zverev A. '), 'Loser'] = 'Zverev A.'\n",
    "df.loc[(df['Loser'] == 'Stepanek R. '), 'Loser'] = 'Stepanek R.'\n",
    "df.loc[(df['Loser'] == 'Tsitsipas S. '), 'Loser'] = 'Tsitsipas S.'\n",
    "df.loc[(df['Loser'] == 'Bautista Agut R.'), 'Loser'] = 'Bautista R.'\n",
    "df.loc[(df['Loser'] == 'Berrettini M. '), 'Loser'] = 'Berrettini M.'\n",
    "df.loc[(df['Loser'] == 'Stepanek R. '), 'Loser'] = 'Stepanek R.'\n",
    "df.loc[(df['Loser'] == 'Tsonga J.W. '), 'Loser'] = 'Tsonga J.W.'\n",
    "df.loc[(df['Loser'] == 'Gonzalez F. '), 'Loser'] = 'Gonzalez F.'"
   ]
  },
  {
   "cell_type": "markdown",
   "metadata": {},
   "source": [
    "Création du \"joueur 0\" du \"joueur 1\" et du \"Winner\" pour l'apprentissage"
   ]
  },
  {
   "cell_type": "code",
   "execution_count": 69,
   "metadata": {},
   "outputs": [],
   "source": [
    "#Player 1 = player with best rank between winner and loser\n",
    "#Player 0 = the other player\n",
    "#winner = 0 or 1 according to which player won\n",
    "#index of columns to use iloc :\n",
    "#Winner : 7\n",
    "#Loser : 8\n",
    "#WRank : 9\n",
    "#Lrank : 10\n",
    "#player0 : 36\n",
    "#player1 : 37\n",
    "#winner : 38\n",
    "df[\"player0\"] = \"0\"\n",
    "df[\"player1\"] = \"0\"\n",
    "df[\"winner\"] = \"0\"\n",
    "df_test = df\n",
    "df_test.loc[(df_test['LRank'] > df_test['WRank']),'player0'] = df_test.loc[(df_test['LRank'] > df_test['WRank']),'Loser']\n",
    "df_test.loc[(df_test['LRank'] > df_test['WRank']),'player1'] = df_test.loc[(df_test['LRank'] > df_test['WRank']),'Winner']\n",
    "df_test.loc[(df_test['LRank'] > df_test['WRank']),'winner'] = 1\n",
    "df_test.loc[(df_test['LRank'] <= df_test['WRank']),'player0'] = df_test.loc[(df_test['LRank'] <= df_test['WRank']),'Winner']\n",
    "df_test.loc[(df_test['LRank'] <= df_test['WRank']),'player1'] = df_test.loc[(df_test['LRank'] <= df_test['WRank']),'Loser']\n",
    "df_test.loc[(df_test['LRank'] <= df_test['WRank']),'winner'] = 0\n",
    "\n",
    "#df_test.drop(df_test['player0'] == '0' | df_test['player1'] == '0')\n",
    "df_test.drop(df_test[df_test['player0'] == '0'].index, axis=0, inplace=True)\n",
    "df_test.drop(df_test[df_test['player1'] == '0'].index, axis=0, inplace=True)"
   ]
  },
  {
   "cell_type": "code",
   "execution_count": 70,
   "metadata": {},
   "outputs": [],
   "source": [
    "df = df_test\n",
    "#higher rank (worst player) as player 0\n",
    "for i in range(0,len(df_test)):\n",
    "    if (df_test.iloc[i,9] < df_test.iloc[i,10]): \n",
    "        #WRank < LRank (winner better ranked) \n",
    "        # winner -> player1 \n",
    "        #loser -> player0 \n",
    "        df_test.iloc[i,37] = df_test.iloc[i,7] \n",
    "        df_test.iloc[i,36] = df_test.iloc[i,8] \n",
    "        df_test.iloc[i,38] = 1 \n",
    "    else: \n",
    "        #winer -> player0 \n",
    "        #loser -> player1 \n",
    "        df_test.iloc[i,37] = df_test.iloc[i,8] \n",
    "        df_test.iloc[i,36] = df_test.iloc[i,7]\n",
    "        df_test.iloc[i,38] = 0"
   ]
  },
  {
   "cell_type": "markdown",
   "metadata": {},
   "source": [
    "On renomme les colonnes en associant les variables à \"player 1\" ou \"player 0\" plutôt que W et L"
   ]
  },
  {
   "cell_type": "code",
   "execution_count": 71,
   "metadata": {},
   "outputs": [],
   "source": [
    "dfW = df_test[df_test[\"WRank\"] < df_test['LRank']] \n",
    "dfW = dfW.rename(columns={\"WRank\": \"RankP1\", \"LRank\": \"RankP0\",'WPts' : 'PtsP1', 'LPts' :'PtsP0' ,'B365W' : 'B365P1', 'B365L' : 'B365P0', 'CBW' : 'CBP1', 'CBL' : 'CBP0',\n",
    "       'EXW' : 'EXP1','B&WW': 'B&WP1','B&WL': 'B&WP0', 'EXL' : 'EXP0', 'IWW' : 'IWP1', 'IWL' : 'IWP0', 'PSW': 'PSP1', 'PSL':'PSP0', 'UBW' : 'UBP1', 'UBL': 'UBP0', 'LBW':'LBP1', 'LBL':'LBP0',\n",
    "       'SJW' : 'SJP1', 'SJL' : 'SJP0', 'MaxW' : 'MaxP1', 'MaxL' : 'MaxP0', 'AvgW' : 'AvgP1', 'AvgL' : 'AvgP0' , 'SBW':\"SBP1\", 'SBL':'SBP0'})\n",
    "dfL = df_test[df_test[\"WRank\"] >= df_test['LRank']] \n",
    "dfL = dfL.rename(columns={\"WRank\": \"RankP0\", \"LRank\": \"RankP1\",'WPts' : 'PtsP0', 'LPts' :'PtsP1' ,'B365W' : 'B365P0', 'B365L' : 'B365P1', 'CBW' : 'CBP0', 'CBL' : 'CBP1',\n",
    "       'EXW' : 'EXP0', 'B&WW': 'B&WP0','B&WL': 'B&WP1','EXL' : 'EXP1', 'IWW' : 'IWP0', 'IWL' : 'IWP1', 'PSW': 'PSP0', 'PSL':'PSP1', 'UBW' : 'UBP0', 'UBL': 'UBP1', 'LBW':'LBP0', 'LBL':'LBP1',\n",
    "       'SJW' : 'SJP0', 'SJL' : 'SJP1', 'MaxW' : 'MaxP0', 'MaxL' : 'MaxP1', 'AvgW' : 'AvgP0', 'AvgL' : 'AvgP1' , 'SBW':\"SBP0\", 'SBL':'SBP1'})"
   ]
  },
  {
   "cell_type": "markdown",
   "metadata": {},
   "source": [
    "Combinaison des 2 dataframes"
   ]
  },
  {
   "cell_type": "code",
   "execution_count": 72,
   "metadata": {},
   "outputs": [],
   "source": [
    "dfc = pd.concat([dfW, dfL], ignore_index=True)\n",
    "df = dfc.sort_values(by=\"Date\")\n",
    "df = df.drop(['Winner','Loser'], axis = 1)"
   ]
  },
  {
   "cell_type": "markdown",
   "metadata": {},
   "source": [
    "## Conversion en données numériques"
   ]
  },
  {
   "cell_type": "code",
   "execution_count": 73,
   "metadata": {},
   "outputs": [],
   "source": [
    "df[\"winner\"] = pd.to_numeric(df[\"winner\"], errors='coerce')\n",
    "df[\"EXP0\"] = pd.to_numeric(df[\"EXP0\"], errors='coerce')\n",
    "df[\"EXP1\"] = pd.to_numeric(df[\"EXP1\"], errors='coerce')"
   ]
  },
  {
   "cell_type": "markdown",
   "metadata": {},
   "source": [
    "## Traitement des valeurs manquantes"
   ]
  },
  {
   "cell_type": "code",
   "execution_count": 74,
   "metadata": {},
   "outputs": [],
   "source": [
    "df_info=get_info_columns(df,only_empty = True)  #Check columns types and delete na\n",
    "list_col_empty = df_info.cols\n",
    "for col in list_col_empty:\n",
    "    df.loc[df[col].isna()==True,col] = df.loc[:,col].mean()"
   ]
  },
  {
   "cell_type": "markdown",
   "metadata": {},
   "source": [
    "## One Hot encoding"
   ]
  },
  {
   "cell_type": "code",
   "execution_count": 75,
   "metadata": {},
   "outputs": [],
   "source": [
    "cols_to_dumb = ['Series', 'Court', 'Surface', 'Round', 'Comment', 'player0','player1']\n",
    "df_dumb = pd.get_dummies(df, prefix=None, prefix_sep='_', dummy_na=False, columns=cols_to_dumb, drop_first=False, dtype=None)\n",
    "df = df_dumb"
   ]
  },
  {
   "cell_type": "markdown",
   "metadata": {},
   "source": [
    "## Traitement des dates"
   ]
  },
  {
   "cell_type": "code",
   "execution_count": 76,
   "metadata": {},
   "outputs": [],
   "source": [
    "#We divide the date which was in the format day-month-year in three columns and make them numeric.\n",
    "df['Annee'] = df['Date'].astype(str).str[2:4]\n",
    "df['Mois'] = df['Date'].astype(str).str[6:7]\n",
    "df['Jour'] = df['Date'].astype(str).str[8:10]\n",
    "df[\"Annee\"] = pd.to_numeric(df[\"Annee\"], errors='coerce')\n",
    "df[\"Mois\"] = pd.to_numeric(df[\"Mois\"], errors='coerce')\n",
    "df[\"Jour\"] = pd.to_numeric(df[\"Jour\"], errors='coerce')\n",
    "df = df.drop(['Date'], axis = 1)"
   ]
  },
  {
   "cell_type": "code",
   "execution_count": 77,
   "metadata": {},
   "outputs": [
    {
     "data": {
      "text/html": [
       "<div>\n",
       "<style scoped>\n",
       "    .dataframe tbody tr th:only-of-type {\n",
       "        vertical-align: middle;\n",
       "    }\n",
       "\n",
       "    .dataframe tbody tr th {\n",
       "        vertical-align: top;\n",
       "    }\n",
       "\n",
       "    .dataframe thead th {\n",
       "        text-align: right;\n",
       "    }\n",
       "</style>\n",
       "<table border=\"1\" class=\"dataframe\">\n",
       "  <thead>\n",
       "    <tr style=\"text-align: right;\">\n",
       "      <th></th>\n",
       "      <th>ATP</th>\n",
       "      <th>Best of</th>\n",
       "      <th>RankP1</th>\n",
       "      <th>RankP0</th>\n",
       "      <th>CBP1</th>\n",
       "      <th>CBP0</th>\n",
       "      <th>GBW</th>\n",
       "      <th>GBL</th>\n",
       "      <th>IWP1</th>\n",
       "      <th>IWP0</th>\n",
       "      <th>...</th>\n",
       "      <th>player1_Zverev A.</th>\n",
       "      <th>player1_classé-100-200</th>\n",
       "      <th>player1_classé-15-25</th>\n",
       "      <th>player1_classé-200-500</th>\n",
       "      <th>player1_classé-25-50</th>\n",
       "      <th>player1_classé-50-100</th>\n",
       "      <th>player1_classé-500-1000</th>\n",
       "      <th>Annee</th>\n",
       "      <th>Mois</th>\n",
       "      <th>Jour</th>\n",
       "    </tr>\n",
       "  </thead>\n",
       "  <tbody>\n",
       "    <tr>\n",
       "      <th>0</th>\n",
       "      <td>1</td>\n",
       "      <td>3</td>\n",
       "      <td>18.0</td>\n",
       "      <td>101.0</td>\n",
       "      <td>1.578642</td>\n",
       "      <td>3.174237</td>\n",
       "      <td>1.732327</td>\n",
       "      <td>2.376439</td>\n",
       "      <td>1.496667</td>\n",
       "      <td>2.536149</td>\n",
       "      <td>...</td>\n",
       "      <td>0</td>\n",
       "      <td>0</td>\n",
       "      <td>1</td>\n",
       "      <td>0</td>\n",
       "      <td>0</td>\n",
       "      <td>0</td>\n",
       "      <td>0</td>\n",
       "      <td>1</td>\n",
       "      <td>1</td>\n",
       "      <td>1</td>\n",
       "    </tr>\n",
       "    <tr>\n",
       "      <th>73293</th>\n",
       "      <td>3</td>\n",
       "      <td>3</td>\n",
       "      <td>5.0</td>\n",
       "      <td>76.0</td>\n",
       "      <td>1.280000</td>\n",
       "      <td>3.250000</td>\n",
       "      <td>2.550000</td>\n",
       "      <td>1.350000</td>\n",
       "      <td>1.200000</td>\n",
       "      <td>2.800000</td>\n",
       "      <td>...</td>\n",
       "      <td>0</td>\n",
       "      <td>0</td>\n",
       "      <td>0</td>\n",
       "      <td>0</td>\n",
       "      <td>0</td>\n",
       "      <td>0</td>\n",
       "      <td>0</td>\n",
       "      <td>1</td>\n",
       "      <td>1</td>\n",
       "      <td>1</td>\n",
       "    </tr>\n",
       "    <tr>\n",
       "      <th>73294</th>\n",
       "      <td>3</td>\n",
       "      <td>3</td>\n",
       "      <td>20.0</td>\n",
       "      <td>46.0</td>\n",
       "      <td>1.420000</td>\n",
       "      <td>2.600000</td>\n",
       "      <td>2.350000</td>\n",
       "      <td>1.420000</td>\n",
       "      <td>1.450000</td>\n",
       "      <td>2.000000</td>\n",
       "      <td>...</td>\n",
       "      <td>0</td>\n",
       "      <td>0</td>\n",
       "      <td>1</td>\n",
       "      <td>0</td>\n",
       "      <td>0</td>\n",
       "      <td>0</td>\n",
       "      <td>0</td>\n",
       "      <td>1</td>\n",
       "      <td>1</td>\n",
       "      <td>1</td>\n",
       "    </tr>\n",
       "    <tr>\n",
       "      <th>73295</th>\n",
       "      <td>3</td>\n",
       "      <td>3</td>\n",
       "      <td>48.0</td>\n",
       "      <td>76.0</td>\n",
       "      <td>1.420000</td>\n",
       "      <td>2.700000</td>\n",
       "      <td>2.150000</td>\n",
       "      <td>1.500000</td>\n",
       "      <td>1.450000</td>\n",
       "      <td>2.000000</td>\n",
       "      <td>...</td>\n",
       "      <td>0</td>\n",
       "      <td>0</td>\n",
       "      <td>0</td>\n",
       "      <td>0</td>\n",
       "      <td>1</td>\n",
       "      <td>0</td>\n",
       "      <td>0</td>\n",
       "      <td>1</td>\n",
       "      <td>1</td>\n",
       "      <td>1</td>\n",
       "    </tr>\n",
       "    <tr>\n",
       "      <th>74367</th>\n",
       "      <td>1</td>\n",
       "      <td>3</td>\n",
       "      <td>67.0</td>\n",
       "      <td>127.0</td>\n",
       "      <td>1.578642</td>\n",
       "      <td>3.174237</td>\n",
       "      <td>1.732327</td>\n",
       "      <td>2.376439</td>\n",
       "      <td>1.496667</td>\n",
       "      <td>2.536149</td>\n",
       "      <td>...</td>\n",
       "      <td>0</td>\n",
       "      <td>0</td>\n",
       "      <td>0</td>\n",
       "      <td>0</td>\n",
       "      <td>0</td>\n",
       "      <td>1</td>\n",
       "      <td>0</td>\n",
       "      <td>1</td>\n",
       "      <td>1</td>\n",
       "      <td>1</td>\n",
       "    </tr>\n",
       "    <tr>\n",
       "      <th>...</th>\n",
       "      <td>...</td>\n",
       "      <td>...</td>\n",
       "      <td>...</td>\n",
       "      <td>...</td>\n",
       "      <td>...</td>\n",
       "      <td>...</td>\n",
       "      <td>...</td>\n",
       "      <td>...</td>\n",
       "      <td>...</td>\n",
       "      <td>...</td>\n",
       "      <td>...</td>\n",
       "      <td>...</td>\n",
       "      <td>...</td>\n",
       "      <td>...</td>\n",
       "      <td>...</td>\n",
       "      <td>...</td>\n",
       "      <td>...</td>\n",
       "      <td>...</td>\n",
       "      <td>...</td>\n",
       "      <td>...</td>\n",
       "      <td>...</td>\n",
       "    </tr>\n",
       "    <tr>\n",
       "      <th>73254</th>\n",
       "      <td>32</td>\n",
       "      <td>3</td>\n",
       "      <td>1.0</td>\n",
       "      <td>7.0</td>\n",
       "      <td>1.578642</td>\n",
       "      <td>3.174237</td>\n",
       "      <td>1.732327</td>\n",
       "      <td>2.376439</td>\n",
       "      <td>1.496667</td>\n",
       "      <td>2.536149</td>\n",
       "      <td>...</td>\n",
       "      <td>0</td>\n",
       "      <td>0</td>\n",
       "      <td>0</td>\n",
       "      <td>0</td>\n",
       "      <td>0</td>\n",
       "      <td>0</td>\n",
       "      <td>0</td>\n",
       "      <td>20</td>\n",
       "      <td>1</td>\n",
       "      <td>20</td>\n",
       "    </tr>\n",
       "    <tr>\n",
       "      <th>73255</th>\n",
       "      <td>32</td>\n",
       "      <td>3</td>\n",
       "      <td>4.0</td>\n",
       "      <td>9.0</td>\n",
       "      <td>1.578642</td>\n",
       "      <td>3.174237</td>\n",
       "      <td>1.732327</td>\n",
       "      <td>2.376439</td>\n",
       "      <td>1.496667</td>\n",
       "      <td>2.536149</td>\n",
       "      <td>...</td>\n",
       "      <td>0</td>\n",
       "      <td>0</td>\n",
       "      <td>0</td>\n",
       "      <td>0</td>\n",
       "      <td>0</td>\n",
       "      <td>0</td>\n",
       "      <td>0</td>\n",
       "      <td>20</td>\n",
       "      <td>1</td>\n",
       "      <td>20</td>\n",
       "    </tr>\n",
       "    <tr>\n",
       "      <th>110529</th>\n",
       "      <td>32</td>\n",
       "      <td>3</td>\n",
       "      <td>1.0</td>\n",
       "      <td>3.0</td>\n",
       "      <td>1.578642</td>\n",
       "      <td>3.174237</td>\n",
       "      <td>1.732327</td>\n",
       "      <td>2.376439</td>\n",
       "      <td>1.496667</td>\n",
       "      <td>2.536149</td>\n",
       "      <td>...</td>\n",
       "      <td>0</td>\n",
       "      <td>0</td>\n",
       "      <td>0</td>\n",
       "      <td>0</td>\n",
       "      <td>0</td>\n",
       "      <td>0</td>\n",
       "      <td>0</td>\n",
       "      <td>20</td>\n",
       "      <td>1</td>\n",
       "      <td>21</td>\n",
       "    </tr>\n",
       "    <tr>\n",
       "      <th>110530</th>\n",
       "      <td>32</td>\n",
       "      <td>3</td>\n",
       "      <td>2.0</td>\n",
       "      <td>4.0</td>\n",
       "      <td>1.578642</td>\n",
       "      <td>3.174237</td>\n",
       "      <td>1.732327</td>\n",
       "      <td>2.376439</td>\n",
       "      <td>1.496667</td>\n",
       "      <td>2.536149</td>\n",
       "      <td>...</td>\n",
       "      <td>0</td>\n",
       "      <td>0</td>\n",
       "      <td>0</td>\n",
       "      <td>0</td>\n",
       "      <td>0</td>\n",
       "      <td>0</td>\n",
       "      <td>0</td>\n",
       "      <td>20</td>\n",
       "      <td>1</td>\n",
       "      <td>21</td>\n",
       "    </tr>\n",
       "    <tr>\n",
       "      <th>110531</th>\n",
       "      <td>32</td>\n",
       "      <td>3</td>\n",
       "      <td>3.0</td>\n",
       "      <td>4.0</td>\n",
       "      <td>1.578642</td>\n",
       "      <td>3.174237</td>\n",
       "      <td>1.732327</td>\n",
       "      <td>2.376439</td>\n",
       "      <td>1.496667</td>\n",
       "      <td>2.536149</td>\n",
       "      <td>...</td>\n",
       "      <td>0</td>\n",
       "      <td>0</td>\n",
       "      <td>0</td>\n",
       "      <td>0</td>\n",
       "      <td>0</td>\n",
       "      <td>0</td>\n",
       "      <td>0</td>\n",
       "      <td>20</td>\n",
       "      <td>1</td>\n",
       "      <td>22</td>\n",
       "    </tr>\n",
       "  </tbody>\n",
       "</table>\n",
       "<p>110532 rows × 276 columns</p>\n",
       "</div>"
      ],
      "text/plain": [
       "        ATP  Best of  RankP1  RankP0      CBP1      CBP0       GBW       GBL  \\\n",
       "0         1        3    18.0   101.0  1.578642  3.174237  1.732327  2.376439   \n",
       "73293     3        3     5.0    76.0  1.280000  3.250000  2.550000  1.350000   \n",
       "73294     3        3    20.0    46.0  1.420000  2.600000  2.350000  1.420000   \n",
       "73295     3        3    48.0    76.0  1.420000  2.700000  2.150000  1.500000   \n",
       "74367     1        3    67.0   127.0  1.578642  3.174237  1.732327  2.376439   \n",
       "...     ...      ...     ...     ...       ...       ...       ...       ...   \n",
       "73254    32        3     1.0     7.0  1.578642  3.174237  1.732327  2.376439   \n",
       "73255    32        3     4.0     9.0  1.578642  3.174237  1.732327  2.376439   \n",
       "110529   32        3     1.0     3.0  1.578642  3.174237  1.732327  2.376439   \n",
       "110530   32        3     2.0     4.0  1.578642  3.174237  1.732327  2.376439   \n",
       "110531   32        3     3.0     4.0  1.578642  3.174237  1.732327  2.376439   \n",
       "\n",
       "            IWP1      IWP0  ...  player1_Zverev A.  player1_classé-100-200  \\\n",
       "0       1.496667  2.536149  ...                  0                       0   \n",
       "73293   1.200000  2.800000  ...                  0                       0   \n",
       "73294   1.450000  2.000000  ...                  0                       0   \n",
       "73295   1.450000  2.000000  ...                  0                       0   \n",
       "74367   1.496667  2.536149  ...                  0                       0   \n",
       "...          ...       ...  ...                ...                     ...   \n",
       "73254   1.496667  2.536149  ...                  0                       0   \n",
       "73255   1.496667  2.536149  ...                  0                       0   \n",
       "110529  1.496667  2.536149  ...                  0                       0   \n",
       "110530  1.496667  2.536149  ...                  0                       0   \n",
       "110531  1.496667  2.536149  ...                  0                       0   \n",
       "\n",
       "        player1_classé-15-25  player1_classé-200-500  player1_classé-25-50  \\\n",
       "0                          1                       0                     0   \n",
       "73293                      0                       0                     0   \n",
       "73294                      1                       0                     0   \n",
       "73295                      0                       0                     1   \n",
       "74367                      0                       0                     0   \n",
       "...                      ...                     ...                   ...   \n",
       "73254                      0                       0                     0   \n",
       "73255                      0                       0                     0   \n",
       "110529                     0                       0                     0   \n",
       "110530                     0                       0                     0   \n",
       "110531                     0                       0                     0   \n",
       "\n",
       "        player1_classé-50-100  player1_classé-500-1000  Annee  Mois  Jour  \n",
       "0                           0                        0      1     1     1  \n",
       "73293                       0                        0      1     1     1  \n",
       "73294                       0                        0      1     1     1  \n",
       "73295                       0                        0      1     1     1  \n",
       "74367                       1                        0      1     1     1  \n",
       "...                       ...                      ...    ...   ...   ...  \n",
       "73254                       0                        0     20     1    20  \n",
       "73255                       0                        0     20     1    20  \n",
       "110529                      0                        0     20     1    21  \n",
       "110530                      0                        0     20     1    21  \n",
       "110531                      0                        0     20     1    22  \n",
       "\n",
       "[110532 rows x 276 columns]"
      ]
     },
     "execution_count": 77,
     "metadata": {},
     "output_type": "execute_result"
    }
   ],
   "source": [
    "df"
   ]
  },
  {
   "cell_type": "markdown",
   "metadata": {},
   "source": [
    "## Export en un csv"
   ]
  },
  {
   "cell_type": "code",
   "execution_count": 80,
   "metadata": {},
   "outputs": [],
   "source": [
    "NEW_FILE=\"clean_data.csv\"\n",
    "df.to_csv(NEW_FILE, index=False)"
   ]
  },
  {
   "cell_type": "markdown",
   "metadata": {},
   "source": [
    " "
   ]
  },
  {
   "cell_type": "markdown",
   "metadata": {},
   "source": [
    " "
   ]
  },
  {
   "cell_type": "markdown",
   "metadata": {},
   "source": [
    "# 2. Approche Machine Learning"
   ]
  },
  {
   "cell_type": "markdown",
   "metadata": {},
   "source": [
    "# 2.1 Régression Logistique"
   ]
  },
  {
   "cell_type": "markdown",
   "metadata": {},
   "source": [
    "# Chargement de nos données"
   ]
  },
  {
   "cell_type": "code",
   "execution_count": 81,
   "metadata": {},
   "outputs": [
    {
     "name": "stdout",
     "output_type": "stream",
     "text": [
      "(110532, 276)\n"
     ]
    }
   ],
   "source": [
    "OurData = pd.read_csv('clean_data.csv')\n",
    "print(OurData.shape)"
   ]
  },
  {
   "cell_type": "markdown",
   "metadata": {},
   "source": [
    "Construction de X et de y"
   ]
  },
  {
   "cell_type": "code",
   "execution_count": 82,
   "metadata": {},
   "outputs": [],
   "source": [
    "X = OurData.drop(['winner','Mois','Jour'], axis = 1)\n",
    "y = OurData['winner']"
   ]
  },
  {
   "cell_type": "markdown",
   "metadata": {},
   "source": [
    "Nous allons maintenant séparer nos données en 2 échantillons : l'echantillon de test et celui d'apprentissage."
   ]
  },
  {
   "cell_type": "code",
   "execution_count": 83,
   "metadata": {},
   "outputs": [],
   "source": [
    "Xapp, Xtest = train_test_split(X, test_size=0.33, random_state=42)\n",
    "yapp, ytest = train_test_split(y, test_size=0.33, random_state=42)\n",
    "Xapp=np.array(Xapp)\n",
    "Xtest=np.array(Xtest)\n",
    "yapp=np.array(yapp)\n",
    "ytest=np.array(ytest)"
   ]
  },
  {
   "cell_type": "code",
   "execution_count": 84,
   "metadata": {},
   "outputs": [
    {
     "name": "stdout",
     "output_type": "stream",
     "text": [
      "(74056, 273) (74056,)\n",
      "(36476, 273) (36476,)\n"
     ]
    }
   ],
   "source": [
    "print(Xapp.shape,yapp.shape)\n",
    "print(Xtest.shape,ytest.shape)"
   ]
  },
  {
   "cell_type": "markdown",
   "metadata": {},
   "source": [
    "## Construction de nos fonctions pour l'apprentissage"
   ]
  },
  {
   "cell_type": "code",
   "execution_count": 85,
   "metadata": {},
   "outputs": [
    {
     "name": "stdout",
     "output_type": "stream",
     "text": [
      "Populating the interactive namespace from numpy and matplotlib\n"
     ]
    },
    {
     "name": "stderr",
     "output_type": "stream",
     "text": [
      "C:\\Users\\Utilisateur\\anaconda3\\lib\\site-packages\\IPython\\core\\magics\\pylab.py:160: UserWarning: pylab import has clobbered these variables: ['info']\n",
      "`%matplotlib` prevents importing * from pylab and numpy\n",
      "  \"\\n`%matplotlib` prevents importing * from pylab and numpy\"\n"
     ]
    }
   ],
   "source": [
    "import matplotlib.pyplot as plt\n",
    "%pylab inline"
   ]
  },
  {
   "cell_type": "markdown",
   "metadata": {},
   "source": [
    "Ajout de l'intercept à X"
   ]
  },
  {
   "cell_type": "code",
   "execution_count": 86,
   "metadata": {},
   "outputs": [],
   "source": [
    "m=Xapp.shape[1]\n",
    "n_app=len(yapp)\n",
    "n_test=len(ytest)\n",
    "#m et n sont respectivement le nombre de variables explicatives et le nombre d'observations\n",
    "Xapp=np.c_[np.ones(n_app),Xapp]\n",
    "Xtest=np.c_[np.ones(n_test),Xtest]\n",
    "#Afin de prendre en compte l'intercept on doit actualiser la valeur de m\n",
    "m=m+1"
   ]
  },
  {
   "cell_type": "markdown",
   "metadata": {},
   "source": [
    "Fonction de coût, fonction sigmoid et calcul de son gradient"
   ]
  },
  {
   "cell_type": "code",
   "execution_count": 87,
   "metadata": {},
   "outputs": [],
   "source": [
    "def sigmoid(x):\n",
    "    return(1/(1+exp(-x)))\n",
    "def fonctionCout(theta,X,y,n):\n",
    "    cout=0\n",
    "    for i in range (0,n):\n",
    "        cout=cout+(y[i]*log(sigmoid(np.vdot(X[i,:],theta)))+(1-y[i])*log(1-sigmoid(np.vdot(X[i,:],theta)))) \n",
    "        #vdot est le produit scalaire\n",
    "    return(-(1/n)*cout)\n",
    "def grad(theta,X,y,n):\n",
    "    vecteurGrad=np.zeros(X.shape[1])\n",
    "    for j in range (0,X.shape[1]):\n",
    "        temp=0\n",
    "        for i in range (0,n):\n",
    "            temp=temp+X[i,j]*(sigmoid(np.vdot(X[i,:],theta))-y[i])\n",
    "        vecteurGrad[j]=(1/n)*temp\n",
    "    return(vecteurGrad)"
   ]
  },
  {
   "cell_type": "markdown",
   "metadata": {},
   "source": [
    "Même si dans la théorie il était naturel de parler du choix de l'initialisation dans un second temps, en pratique il est plus pertinent d'initialiser notre vecteur de paramètres theta une fois pour toute."
   ]
  },
  {
   "cell_type": "markdown",
   "metadata": {},
   "source": [
    "## Choix du point de départ"
   ]
  },
  {
   "cell_type": "markdown",
   "metadata": {},
   "source": [
    "Toutes les coordonnées correspondant à des nombres aléatoires correspondent aux variables explicatives dont, à priori, nous ne savons pas quel joueur ça influence, les autres ont été choisies selon le principe expliqué dans le pdf après consultation d'un amateur de tennis."
   ]
  },
  {
   "cell_type": "code",
   "execution_count": 88,
   "metadata": {},
   "outputs": [],
   "source": [
    "a_priori=np.random.uniform(-1,1,m)\n",
    "for i in range(157,266):\n",
    "    a_priori[i]=np.random.uniform(0.6,0.85,1) \n",
    "for i in range(56,150):\n",
    "    a_priori[i]=np.random.uniform(-0.85,-0.6,1) \n",
    "a_priori[271]=-0.85\n",
    "a_priori[270]=-0.55\n",
    "a_priori[269]=-0.45\n",
    "a_priori[268]=-0.75\n",
    "a_priori[267]=-0.25\n",
    "a_priori[266]=-0.65\n",
    "a_priori[156]=0.9\n",
    "a_priori[155]=0.85\n",
    "a_priori[154]=0.55\n",
    "a_priori[153]=0.45\n",
    "a_priori[152]=0.75\n",
    "a_priori[151]=0.25\n",
    "a_priori[150]=0.65\n",
    "Theta=a_priori/(sqrt(m))"
   ]
  },
  {
   "cell_type": "markdown",
   "metadata": {},
   "source": [
    "## Feature scaling"
   ]
  },
  {
   "cell_type": "markdown",
   "metadata": {},
   "source": [
    "Nous allons ici comparer les differentes méthodes de renormalisation de nos variables. Notons que nous commençons les boucles à 1 car on ne renormalise pas l'intercept. De plus nous ne renormaliserons pas les colonnes correspondant à un one hot encoding ou une discretisation mais seulement celle dont les rapports d'echelle sont relativement différents."
   ]
  },
  {
   "cell_type": "markdown",
   "metadata": {},
   "source": [
    "Commencons donc par identifier ces colonnes avec un simple calcul de moyenne pour ensuite récupérer leur indice."
   ]
  },
  {
   "cell_type": "code",
   "execution_count": 89,
   "metadata": {},
   "outputs": [
    {
     "name": "stdout",
     "output_type": "stream",
     "text": [
      "[1, 3, 4, 21, 22, 273]\n"
     ]
    }
   ],
   "source": [
    "identification=(abs(numpy.mean(Xapp, 0))>=6).astype(int)\n",
    "liste_colonne=[]\n",
    "for i in range(0,len(identification)):\n",
    "    if identification[i]==1:\n",
    "        liste_colonne.append(i)\n",
    "print(liste_colonne)"
   ]
  },
  {
   "cell_type": "markdown",
   "metadata": {},
   "source": [
    "Et nous allons maintenant pouvoir appliquer une renormalisation sur ces colonnes :"
   ]
  },
  {
   "cell_type": "code",
   "execution_count": 90,
   "metadata": {},
   "outputs": [],
   "source": [
    "#Min-max normalization\n",
    "XappMinMax=np.copy(Xapp)\n",
    "for i in liste_colonne:\n",
    "    XappMinMax[:,i]=(Xapp[:,i]-numpy.amin(Xapp, 0)[i])/(numpy.amax(Xapp, 0)[i]-numpy.amin(Xapp, 0)[i])\n",
    "#Mean normalization\n",
    "XappMean=np.copy(Xapp)\n",
    "for i in liste_colonne:\n",
    "    XappMean[:,i]=(Xapp[:,i]-numpy.mean(Xapp, 0)[i])/(numpy.amax(Xapp, 0)[i]-numpy.amin(Xapp, 0)[i])\n",
    "#Standardization\n",
    "XappStand=np.copy(Xapp)\n",
    "for i in liste_colonne:\n",
    "    XappStand[:,i]=(Xapp[:,i]-numpy.mean(Xapp, 0)[i])/(numpy.std(Xapp, 0)[i])"
   ]
  },
  {
   "cell_type": "markdown",
   "metadata": {},
   "source": [
    "Au vu de la taille du jeu de données et donc pour ne pas que les blocs mettent trop de temps à tourner, nous allons introduire pour des étapes intermédiaires comme celles qui suivent la notion de \"mini-batch\". La descente de gradient \"mini-batch\" consiste à effectuer, à chaque itération de notre descente de gradient, non pas une descente sur toutes les observations de notre échantillon d'apprentissage, mais sur un sous-échantillon tiré aléatoirement. On fixera la taille de cet échantillon à 30. Attention ces blocs mettent quand même plusieurs minutes à tourner : mettre le nombre d'itération à 20 si vous voulez un résultat rapidement."
   ]
  },
  {
   "cell_type": "code",
   "execution_count": 91,
   "metadata": {},
   "outputs": [
    {
     "data": {
      "text/plain": [
       "Text(0.5, 1.0, \"Evolution de la fonction de cout après 'Min-max normalization'\")"
      ]
     },
     "execution_count": 91,
     "metadata": {},
     "output_type": "execute_result"
    },
    {
     "data": {
      "image/png": "[encoded data removed]",
      "text/plain": [
       "<Figure size 432x288 with 1 Axes>"
      ]
     },
     "metadata": {
      "needs_background": "light"
     },
     "output_type": "display_data"
    }
   ],
   "source": [
    "#Min-max normalization\n",
    "Niter=200\n",
    "alpha=0.01\n",
    "cout=np.zeros(Niter-1)\n",
    "theta=Theta\n",
    "for j in range (1,Niter):\n",
    "    MB=randint(0,n_app-30,1)[0]\n",
    "    theta=theta-(alpha*grad(theta,XappMinMax[MB:(MB+30),:],yapp[MB:(MB+30)],30))\n",
    "    cout[j-1]=fonctionCout(theta,XappMinMax,yapp,n_app)\n",
    "absplot=np.linspace(1,Niter-1,Niter-1)\n",
    "plt.plot(absplot,cout)\n",
    "plt.xlabel(\"Nombre d'itérations\")\n",
    "plt.ylabel(\"Fonction de cout\")\n",
    "plt.title(\"Evolution de la fonction de cout après 'Min-max normalization'\")"
   ]
  },
  {
   "cell_type": "code",
   "execution_count": 92,
   "metadata": {},
   "outputs": [
    {
     "data": {
      "text/plain": [
       "Text(0.5, 1.0, \"Evolution de la fonction de cout après 'Mean normalization'\")"
      ]
     },
     "execution_count": 92,
     "metadata": {},
     "output_type": "execute_result"
    },
    {
     "data": {
      "image/png": "[encoded data removed]",
      "text/plain": [
       "<Figure size 432x288 with 1 Axes>"
      ]
     },
     "metadata": {
      "needs_background": "light"
     },
     "output_type": "display_data"
    }
   ],
   "source": [
    "#Mean normalization\n",
    "Niter=200\n",
    "alpha=0.01\n",
    "cout=np.zeros(Niter-1)\n",
    "theta=Theta\n",
    "for j in range (1,Niter):\n",
    "    MB=randint(0,n_app-30,1)[0]\n",
    "    theta=theta-(alpha*grad(theta,XappMean[MB:(MB+30),:],yapp[MB:(MB+30)],30))\n",
    "    cout[j-1]=fonctionCout(theta,XappMean,yapp,n_app)\n",
    "absplot=np.linspace(1,Niter-1,Niter-1)\n",
    "plt.plot(absplot,cout)\n",
    "plt.xlabel(\"Nombre d'itérations\")\n",
    "plt.ylabel(\"Fonction de cout\")\n",
    "plt.title(\"Evolution de la fonction de cout après 'Mean normalization'\")"
   ]
  },
  {
   "cell_type": "code",
   "execution_count": 93,
   "metadata": {},
   "outputs": [
    {
     "data": {
      "text/plain": [
       "Text(0.5, 1.0, \"Evolution de la fonction de cout après 'Standardization'\")"
      ]
     },
     "execution_count": 93,
     "metadata": {},
     "output_type": "execute_result"
    },
    {
     "data": {
      "image/png": "[encoded data removed]",
      "text/plain": [
       "<Figure size 432x288 with 1 Axes>"
      ]
     },
     "metadata": {
      "needs_background": "light"
     },
     "output_type": "display_data"
    }
   ],
   "source": [
    "#Standardization \n",
    "Niter=200\n",
    "alpha=0.01\n",
    "cout=np.zeros(Niter-1)\n",
    "theta=Theta\n",
    "for j in range (1,Niter):\n",
    "    MB=randint(0,n_app-30,1)[0]\n",
    "    theta=theta-(alpha*grad(theta,XappStand[MB:(MB+30),:],yapp[MB:(MB+30)],30))\n",
    "    cout[j-1]=fonctionCout(theta,XappStand,yapp,n_app)\n",
    "absplot=np.linspace(1,Niter-1,Niter-1)\n",
    "plt.plot(absplot,cout)\n",
    "plt.xlabel(\"Nombre d'itérations\")\n",
    "plt.ylabel(\"Fonction de cout\")\n",
    "plt.title(\"Evolution de la fonction de cout après 'Standardization'\")"
   ]
  },
  {
   "cell_type": "markdown",
   "metadata": {},
   "source": [
    "On Conservera donc pour la suite la technique de \"Standardization\" :"
   ]
  },
  {
   "cell_type": "code",
   "execution_count": 94,
   "metadata": {},
   "outputs": [],
   "source": [
    "Xapp=XappStand\n",
    "for i in liste_colonne:\n",
    "    Xtest[:,i]=(Xtest[:,i]-numpy.mean(Xtest, 0)[i])/(numpy.std(Xtest, 0)[i])"
   ]
  },
  {
   "cell_type": "markdown",
   "metadata": {},
   "source": [
    "## Recherche linéaire"
   ]
  },
  {
   "cell_type": "markdown",
   "metadata": {},
   "source": [
    "Commençons avec la descente à pas optimal avec la méthode de Broyden Fletcher Goldfard Shanno (seule méthode que nous n'avons pas codée à la main dans cette partie Regression Logistique, avec la validation croisée, afin d'avoir accès à des fonctions optimisées qui ne mettent pas trop de temps à tourner)"
   ]
  },
  {
   "cell_type": "code",
   "execution_count": 95,
   "metadata": {},
   "outputs": [
    {
     "name": "stdout",
     "output_type": "stream",
     "text": [
      "Warning: Maximum number of iterations has been exceeded.\n",
      "         Current function value: 0.606236\n",
      "         Iterations: 2\n",
      "         Function evaluations: 1100\n",
      "         Gradient evaluations: 4\n"
     ]
    }
   ],
   "source": [
    "from scipy.optimize import minimize\n",
    "theta_0=Theta\n",
    "#On selectionne au hasard 1600 observations de notre échantillon d'apprentissage pour eviter que ce bloc de calcul mette\n",
    "#plus de 10 minutes à tourner\n",
    "XappBFGS=np.copy(Xapp)\n",
    "yappBFGS=np.copy(yapp)\n",
    "data=np.c_[XappBFGS,yappBFGS]\n",
    "np.random.shuffle(data)\n",
    "XappBFGS=data[1:1601,0:(data.shape[1]-1)]\n",
    "yappBFGS=data[1:1601,data.shape[1]-1]\n",
    "def f(theta):\n",
    "    return(fonctionCout(theta,XappBFGS,yappBFGS,1600))\n",
    "    #Afin que la fonction minimize comprenne qu'on cherche à optimiser notre fonction \n",
    "    #de cout en fonction de theta.\n",
    "theta=minimize(f,theta_0,method='BFGS', options={'disp': True,'maxiter':2})\n",
    "#Récuperons à present notre vecteur de paramètre\n",
    "theta=theta['x']\n",
    "#par convention on fixera le seuil à 0.5, calculons alors l'erreur de classification sur l'echantillon de test et d'apprentissage\n",
    "prediction_app=(dot(Xapp,theta)>=0).astype('int')\n",
    "prediction_test=(dot(Xtest,theta)>=0).astype('int')\n",
    "erreur_app=(abs(yapp-prediction_app)).mean()\n",
    "erreur_test=(abs(ytest-prediction_test)).mean()"
   ]
  },
  {
   "cell_type": "code",
   "execution_count": 96,
   "metadata": {},
   "outputs": [
    {
     "name": "stdout",
     "output_type": "stream",
     "text": [
      "Erreur de classification sur l'echantillon d'apprentissage de BFGS-Grad pas optimal est : 0.33615102084908716\n",
      "Erreur de classification sur l'echantillon de test de BFGS-Grad pas optimal est : 0.3374273494900757\n"
     ]
    }
   ],
   "source": [
    "print(\"Erreur de classification sur l'echantillon d'apprentissage de BFGS-Grad pas optimal est :\", erreur_app)\n",
    "print(\"Erreur de classification sur l'echantillon de test de BFGS-Grad pas optimal est :\",erreur_test)"
   ]
  },
  {
   "cell_type": "markdown",
   "metadata": {},
   "source": [
    "Comparons maintenant ce résultat à celui qu'on aurait obtenu avec Wolfe-Armijo dans le cadre d'une descente de gradient classique (mini-batch toujours afin d'éviter un temps de calcul par bloc trop important)"
   ]
  },
  {
   "cell_type": "code",
   "execution_count": 97,
   "metadata": {},
   "outputs": [
    {
     "name": "stdout",
     "output_type": "stream",
     "text": [
      "Erreur de classification sur l'echantillon d'apprentissage de Wolfe-Armijo est : 0.31513989413416876\n",
      "Erreur de classification sur l'echantillon de test de de Wolfe-Armijo est : 0.31478232262309463\n"
     ]
    },
    {
     "data": {
      "image/png": "[encoded data removed]",
      "text/plain": [
       "<Figure size 432x288 with 1 Axes>"
      ]
     },
     "metadata": {
      "needs_background": "light"
     },
     "output_type": "display_data"
    }
   ],
   "source": [
    "#Par convention on fixera\n",
    "k=0.8\n",
    "w=0.9  #on a bien 0<k<w<1\n",
    "epsilon=1e-4\n",
    "Niter =200\n",
    "#on testera différente valeur de alpha suffisament grande pour trouver celle qui verifie à chaque itération Wolfe\n",
    "alpha_w_possible=[0.001,0.05,0.1,0.5,1,2,5,10,20,50,100,200,500,1000] \n",
    "#idem pour Armijo\n",
    "alpha_a_possible=[0.0001,0.00005,0.00001,0.000005,0.000001,0.0000001,0.00000001]    \n",
    "def verifie_Wolfe(alpha,theta_n,X,y,n):\n",
    "    #Retournera True si alpha verifie Wolfe et faux sinon\n",
    "    #D'après nos resultats théoriques on a que alpha verifie Wolfe si :\n",
    "    Gradient_J_theta_n=grad(theta_n,X,y,n)\n",
    "    resultBool=(-np.vdot(Gradient_J_theta_n,grad((theta_n-alpha*Gradient_J_theta_n),X,y,n)) >= w*(-np.vdot(Gradient_J_theta_n,Gradient_J_theta_n)))\n",
    "    return(resultBool)\n",
    "def verifie_Armijo(alpha,theta_n,X,y,n):\n",
    "    #Retournera True si alpha verifie Armijo et faux sinon\n",
    "    #D'après nos resultats théoriques on a que alpha verifie Armijo si :\n",
    "    Gradient_J_theta_n=grad(theta_n,X,y,n)\n",
    "    Phi_en_alpha=fonctionCout(theta_n-(alpha*Gradient_J_theta_n),X,y,n)\n",
    "    temp=fonctionCout(theta_n,X,y,n)-k*alpha*(np.vdot(Gradient_J_theta_n,Gradient_J_theta_n))\n",
    "    resultBool=(Phi_en_alpha <= temp)\n",
    "    return(resultBool)\n",
    "\n",
    "#Implementons maintenant l'algorithme de dichotomie permettant de trouver notre alpha à chaque itération\n",
    "def dichotomie(theta_n,alpha_a,alpha_w,X,y,n) :\n",
    "    temp=0\n",
    "    while verifie_Wolfe(alpha_w,theta_n,X,y,n)==False:\n",
    "        assert ( temp<14 ) , \"Erreur , alpha_w doit vérifier Wolfe et il ne le vérifie toujours pas pour 1000\"\n",
    "        temp+=1\n",
    "        alpha_w=alpha_w_possible[temp]\n",
    "    temp2=0    \n",
    "    while verifie_Armijo(alpha_a,theta_n,X,y,n)==False:\n",
    "        assert ( temp2<5 ) , \"Erreur , alpha_a doit vérifier Armijo et il ne le vérifie toujours pas pour 0.00000001\"\n",
    "        temp2=temp2+1\n",
    "        alpha_a=alpha_a_possible[temp2]\n",
    "    xmoins , xplus , xn = alpha_a , alpha_w , ( alpha_a + alpha_w )/2 \n",
    "    for f in range (Niter) :\n",
    "        if  verifie_Armijo(xplus-epsilon,theta_n,X,y,n): \n",
    "            return(xplus)\n",
    "        if verifie_Armijo(xn,theta_n,X,y,n):\n",
    "            xmoins = xn \n",
    "            xn=(xmoins+xplus)/2\n",
    "        else :\n",
    "            xplus = xn\n",
    "            xn = (xmoins+xplus)/2\n",
    "    print (\" Erreur , Wolfe-Armijo n’a pas trouvé de alpha après \", Niter , \" itérations.\")\n",
    "\n",
    "#Nous sommes maintenant en mesure d'implementer notre descente de gradient :\n",
    "cout=np.zeros(Niter-1)\n",
    "theta=Theta  \n",
    "for j in range (1,Niter):\n",
    "    MB=randint(0,n_app-30,1)[0]\n",
    "    alpha=dichotomie(theta,alpha_a_possible[0],alpha_w_possible[0],Xapp[MB:(MB+30),:],yapp[MB:(MB+30)],30) \n",
    "    #Selection de notre taux d'apprentissage avec Wolfe-Armijo\n",
    "    theta=theta-(alpha*grad(theta,Xapp[MB:(MB+30),:],yapp[MB:(MB+30)],30))\n",
    "    cout[j-1]=fonctionCout(theta,Xapp,yapp,n_app)\n",
    "absplot=np.linspace(1,Niter-1,Niter-1)\n",
    "plt.plot(absplot,cout)\n",
    "plt.xlabel(\"Nombre d'itérations\")\n",
    "plt.ylabel(\"Fonction de cout\")\n",
    "plt.title(\"Evolution de la fonction de cout dans une descente de gradient avec Wolfe-Armijo\")\n",
    "#par convention on fixera le seuil à 0.5, calculons alors l'erreur de classification sur l'echantillon de test et d'apprentissage\n",
    "prediction_app=(dot(Xapp,theta)>=0).astype('int')\n",
    "prediction_test=(dot(Xtest,theta)>=0).astype('int')\n",
    "erreur_app=(abs(yapp-prediction_app)).mean()\n",
    "erreur_test=(abs(ytest-prediction_test)).mean()\n",
    "print(\"Erreur de classification sur l'echantillon d'apprentissage de Wolfe-Armijo est :\", erreur_app)\n",
    "print(\"Erreur de classification sur l'echantillon de test de de Wolfe-Armijo est :\",erreur_test)"
   ]
  },
  {
   "cell_type": "markdown",
   "metadata": {},
   "source": [
    "On conclut que \"BFGS-Gradient pas optimal\" est moins performant que Wolfe-Armijo avec direction de descente classique pour une durée d'apprentissage équivalente assez petite (moins de 10 minutes). En revanche en augmentant le nombre d'itération dans le bloc Wolfe-Armijo et le nombre d'observations tirées au hasard dans notre echantillon d'apprentissage on se rend compte que cet écart se réduit."
   ]
  },
  {
   "cell_type": "markdown",
   "metadata": {},
   "source": [
    " "
   ]
  },
  {
   "cell_type": "markdown",
   "metadata": {},
   "source": [
    " "
   ]
  },
  {
   "cell_type": "markdown",
   "metadata": {},
   "source": [
    "# 2.2 KNN"
   ]
  },
  {
   "cell_type": "markdown",
   "metadata": {},
   "source": [
    "Librairies utilisées :"
   ]
  },
  {
   "cell_type": "code",
   "execution_count": 98,
   "metadata": {},
   "outputs": [],
   "source": [
    "from sklearn.metrics import accuracy_score\n",
    "from sklearn.metrics import make_scorer\n",
    "from sklearn.preprocessing import StandardScaler\n",
    "from sklearn.pipeline import Pipeline\n",
    "from sklearn.neighbors import KNeighborsClassifier\n",
    "import matplotlib.pyplot as plt \n",
    "import plotly.graph_objects as go"
   ]
  },
  {
   "cell_type": "code",
   "execution_count": 99,
   "metadata": {},
   "outputs": [],
   "source": [
    "#Import du jeu de données \n",
    "OurData = pd.read_csv('clean_data.csv')"
   ]
  },
  {
   "cell_type": "markdown",
   "metadata": {},
   "source": [
    "## Préparation des données"
   ]
  },
  {
   "cell_type": "markdown",
   "metadata": {},
   "source": [
    "On note :\n",
    "\n",
    "- X = Notre matrice contenant toutes nos variables \n",
    "- y = La target contenant toutes nos étiquettes \n",
    "\n",
    "Afin de tester les performances de notre algorithme on sépare nos données dans une répartition : \n",
    "- 66.66...% pour l'apprentissage \n",
    "- 33.33...% pour tester les performances de notre algorithme "
   ]
  },
  {
   "cell_type": "code",
   "execution_count": 100,
   "metadata": {},
   "outputs": [],
   "source": [
    "X = OurData.drop(['winner','Mois','Jour'], axis = 1)\n",
    "y = OurData['winner']\n",
    "Xapp, Xtest = train_test_split(X, test_size=0.33, random_state=42)\n",
    "yapp, ytest = train_test_split(y, test_size=0.33, random_state=42)\n",
    "X_train=np.array(Xapp)\n",
    "X_test=np.array(Xtest)\n",
    "y_train=np.array(yapp)\n",
    "y_test=np.array(ytest)"
   ]
  },
  {
   "cell_type": "markdown",
   "metadata": {},
   "source": [
    "Afin d'éviter un macimum de déséquilibre dans notre jeu de données (par exemple de grands ecart entre les valeurs de nos observations) on normaliser nos differentes variables."
   ]
  },
  {
   "cell_type": "code",
   "execution_count": 101,
   "metadata": {},
   "outputs": [],
   "source": [
    "sc_X = StandardScaler()\n",
    "X_train = sc_X.fit_transform(X_train)\n",
    "X_test = sc_X.transform(X_test)"
   ]
  },
  {
   "cell_type": "markdown",
   "metadata": {},
   "source": [
    "## Premier test"
   ]
  },
  {
   "cell_type": "markdown",
   "metadata": {},
   "source": [
    "On réalise un premier test avec les paramètres du kNN par défaut. En principe, l'algorithme va optimiser lui même ses paramètres en fonction de la forme de notre jeu de données."
   ]
  },
  {
   "cell_type": "code",
   "execution_count": 102,
   "metadata": {},
   "outputs": [
    {
     "data": {
      "text/plain": [
       "KNeighborsClassifier()"
      ]
     },
     "execution_count": 102,
     "metadata": {},
     "output_type": "execute_result"
    }
   ],
   "source": [
    "classifier = KNeighborsClassifier()\n",
    "classifier.fit(X_train,y_train)"
   ]
  },
  {
   "cell_type": "markdown",
   "metadata": {},
   "source": [
    "On obtient ensuite un premier résultat : accuracy = 0.85. Ce résultat va nous servir de base pour la selection de notre hyperparamètre."
   ]
  },
  {
   "cell_type": "code",
   "execution_count": 103,
   "metadata": {},
   "outputs": [
    {
     "name": "stdout",
     "output_type": "stream",
     "text": [
      "0.8465566399824542\n"
     ]
    }
   ],
   "source": [
    "y_pred =  classifier.predict(X_test)\n",
    "print(accuracy_score(y_test,y_pred))"
   ]
  },
  {
   "cell_type": "markdown",
   "metadata": {},
   "source": [
    "## Choix de l'hyperparamètre"
   ]
  },
  {
   "cell_type": "markdown",
   "metadata": {},
   "source": [
    "Nous commencons par faire varier la valeur de l'hyperparamètre en fonction des resultats théoriques trouvés dans la partie \"Choix du nombre k de plus proches voisins\". Nous stockons ensuite les resultats des differnents paramètre dans une liste qui nous servira a construire un graphique."
   ]
  },
  {
   "cell_type": "code",
   "execution_count": 105,
   "metadata": {},
   "outputs": [
    {
     "ename": "KeyboardInterrupt",
     "evalue": "",
     "output_type": "error",
     "traceback": [
      "\u001b[1;31m---------------------------------------------------------------------------\u001b[0m",
      "\u001b[1;31mKeyboardInterrupt\u001b[0m                         Traceback (most recent call last)",
      "\u001b[1;32m<ipython-input-105-4fdb8686cf7b>\u001b[0m in \u001b[0;36m<module>\u001b[1;34m\u001b[0m\n\u001b[0;32m      4\u001b[0m     \u001b[0mclf\u001b[0m \u001b[1;33m=\u001b[0m \u001b[0mKNeighborsClassifier\u001b[0m\u001b[1;33m(\u001b[0m \u001b[0mn_neighbors\u001b[0m \u001b[1;33m=\u001b[0m \u001b[0mint\u001b[0m\u001b[1;33m(\u001b[0m\u001b[0my_train\u001b[0m\u001b[1;33m.\u001b[0m\u001b[0msum\u001b[0m\u001b[1;33m(\u001b[0m\u001b[1;33m)\u001b[0m\u001b[1;33m**\u001b[0m\u001b[1;33m(\u001b[0m\u001b[1;36m1\u001b[0m\u001b[1;33m/\u001b[0m\u001b[1;33m(\u001b[0m\u001b[0mi\u001b[0m\u001b[1;33m+\u001b[0m\u001b[1;36m1\u001b[0m\u001b[1;33m)\u001b[0m\u001b[1;33m)\u001b[0m\u001b[1;33m)\u001b[0m\u001b[1;33m)\u001b[0m\u001b[1;33m\u001b[0m\u001b[1;33m\u001b[0m\u001b[0m\n\u001b[0;32m      5\u001b[0m     \u001b[0mclf\u001b[0m\u001b[1;33m.\u001b[0m\u001b[0mfit\u001b[0m\u001b[1;33m(\u001b[0m\u001b[0mX_train\u001b[0m\u001b[1;33m,\u001b[0m \u001b[0my_train\u001b[0m\u001b[1;33m)\u001b[0m\u001b[1;33m\u001b[0m\u001b[1;33m\u001b[0m\u001b[0m\n\u001b[1;32m----> 6\u001b[1;33m     \u001b[0mpredictions\u001b[0m \u001b[1;33m=\u001b[0m \u001b[0mclf\u001b[0m\u001b[1;33m.\u001b[0m\u001b[0mpredict\u001b[0m\u001b[1;33m(\u001b[0m\u001b[0mX_test\u001b[0m\u001b[1;33m)\u001b[0m\u001b[1;33m\u001b[0m\u001b[1;33m\u001b[0m\u001b[0m\n\u001b[0m\u001b[0;32m      7\u001b[0m     \u001b[0maccuracy\u001b[0m\u001b[1;33m.\u001b[0m\u001b[0mappend\u001b[0m\u001b[1;33m(\u001b[0m\u001b[0maccuracy_score\u001b[0m\u001b[1;33m(\u001b[0m\u001b[0mpredictions\u001b[0m\u001b[1;33m,\u001b[0m \u001b[0my_test\u001b[0m\u001b[1;33m)\u001b[0m\u001b[1;33m)\u001b[0m\u001b[1;33m\u001b[0m\u001b[1;33m\u001b[0m\u001b[0m\n",
      "\u001b[1;32m~\\anaconda3\\lib\\site-packages\\sklearn\\neighbors\\_classification.py\u001b[0m in \u001b[0;36mpredict\u001b[1;34m(self, X)\u001b[0m\n\u001b[0;32m    173\u001b[0m         \u001b[0mX\u001b[0m \u001b[1;33m=\u001b[0m \u001b[0mcheck_array\u001b[0m\u001b[1;33m(\u001b[0m\u001b[0mX\u001b[0m\u001b[1;33m,\u001b[0m \u001b[0maccept_sparse\u001b[0m\u001b[1;33m=\u001b[0m\u001b[1;34m'csr'\u001b[0m\u001b[1;33m)\u001b[0m\u001b[1;33m\u001b[0m\u001b[1;33m\u001b[0m\u001b[0m\n\u001b[0;32m    174\u001b[0m \u001b[1;33m\u001b[0m\u001b[0m\n\u001b[1;32m--> 175\u001b[1;33m         \u001b[0mneigh_dist\u001b[0m\u001b[1;33m,\u001b[0m \u001b[0mneigh_ind\u001b[0m \u001b[1;33m=\u001b[0m \u001b[0mself\u001b[0m\u001b[1;33m.\u001b[0m\u001b[0mkneighbors\u001b[0m\u001b[1;33m(\u001b[0m\u001b[0mX\u001b[0m\u001b[1;33m)\u001b[0m\u001b[1;33m\u001b[0m\u001b[1;33m\u001b[0m\u001b[0m\n\u001b[0m\u001b[0;32m    176\u001b[0m         \u001b[0mclasses_\u001b[0m \u001b[1;33m=\u001b[0m \u001b[0mself\u001b[0m\u001b[1;33m.\u001b[0m\u001b[0mclasses_\u001b[0m\u001b[1;33m\u001b[0m\u001b[1;33m\u001b[0m\u001b[0m\n\u001b[0;32m    177\u001b[0m         \u001b[0m_y\u001b[0m \u001b[1;33m=\u001b[0m \u001b[0mself\u001b[0m\u001b[1;33m.\u001b[0m\u001b[0m_y\u001b[0m\u001b[1;33m\u001b[0m\u001b[1;33m\u001b[0m\u001b[0m\n",
      "\u001b[1;32m~\\anaconda3\\lib\\site-packages\\sklearn\\neighbors\\_base.py\u001b[0m in \u001b[0;36mkneighbors\u001b[1;34m(self, X, n_neighbors, return_distance)\u001b[0m\n\u001b[0;32m    663\u001b[0m                 delayed_query(\n\u001b[0;32m    664\u001b[0m                     self._tree, X[s], n_neighbors, return_distance)\n\u001b[1;32m--> 665\u001b[1;33m                 \u001b[1;32mfor\u001b[0m \u001b[0ms\u001b[0m \u001b[1;32min\u001b[0m \u001b[0mgen_even_slices\u001b[0m\u001b[1;33m(\u001b[0m\u001b[0mX\u001b[0m\u001b[1;33m.\u001b[0m\u001b[0mshape\u001b[0m\u001b[1;33m[\u001b[0m\u001b[1;36m0\u001b[0m\u001b[1;33m]\u001b[0m\u001b[1;33m,\u001b[0m \u001b[0mn_jobs\u001b[0m\u001b[1;33m)\u001b[0m\u001b[1;33m\u001b[0m\u001b[1;33m\u001b[0m\u001b[0m\n\u001b[0m\u001b[0;32m    666\u001b[0m             )\n\u001b[0;32m    667\u001b[0m         \u001b[1;32melse\u001b[0m\u001b[1;33m:\u001b[0m\u001b[1;33m\u001b[0m\u001b[1;33m\u001b[0m\u001b[0m\n",
      "\u001b[1;32m~\\anaconda3\\lib\\site-packages\\joblib\\parallel.py\u001b[0m in \u001b[0;36m__call__\u001b[1;34m(self, iterable)\u001b[0m\n\u001b[0;32m   1046\u001b[0m             \u001b[1;31m# remaining jobs.\u001b[0m\u001b[1;33m\u001b[0m\u001b[1;33m\u001b[0m\u001b[1;33m\u001b[0m\u001b[0m\n\u001b[0;32m   1047\u001b[0m             \u001b[0mself\u001b[0m\u001b[1;33m.\u001b[0m\u001b[0m_iterating\u001b[0m \u001b[1;33m=\u001b[0m \u001b[1;32mFalse\u001b[0m\u001b[1;33m\u001b[0m\u001b[1;33m\u001b[0m\u001b[0m\n\u001b[1;32m-> 1048\u001b[1;33m             \u001b[1;32mif\u001b[0m \u001b[0mself\u001b[0m\u001b[1;33m.\u001b[0m\u001b[0mdispatch_one_batch\u001b[0m\u001b[1;33m(\u001b[0m\u001b[0miterator\u001b[0m\u001b[1;33m)\u001b[0m\u001b[1;33m:\u001b[0m\u001b[1;33m\u001b[0m\u001b[1;33m\u001b[0m\u001b[0m\n\u001b[0m\u001b[0;32m   1049\u001b[0m                 \u001b[0mself\u001b[0m\u001b[1;33m.\u001b[0m\u001b[0m_iterating\u001b[0m \u001b[1;33m=\u001b[0m \u001b[0mself\u001b[0m\u001b[1;33m.\u001b[0m\u001b[0m_original_iterator\u001b[0m \u001b[1;32mis\u001b[0m \u001b[1;32mnot\u001b[0m \u001b[1;32mNone\u001b[0m\u001b[1;33m\u001b[0m\u001b[1;33m\u001b[0m\u001b[0m\n\u001b[0;32m   1050\u001b[0m \u001b[1;33m\u001b[0m\u001b[0m\n",
      "\u001b[1;32m~\\anaconda3\\lib\\site-packages\\joblib\\parallel.py\u001b[0m in \u001b[0;36mdispatch_one_batch\u001b[1;34m(self, iterator)\u001b[0m\n\u001b[0;32m    864\u001b[0m                 \u001b[1;32mreturn\u001b[0m \u001b[1;32mFalse\u001b[0m\u001b[1;33m\u001b[0m\u001b[1;33m\u001b[0m\u001b[0m\n\u001b[0;32m    865\u001b[0m             \u001b[1;32melse\u001b[0m\u001b[1;33m:\u001b[0m\u001b[1;33m\u001b[0m\u001b[1;33m\u001b[0m\u001b[0m\n\u001b[1;32m--> 866\u001b[1;33m                 \u001b[0mself\u001b[0m\u001b[1;33m.\u001b[0m\u001b[0m_dispatch\u001b[0m\u001b[1;33m(\u001b[0m\u001b[0mtasks\u001b[0m\u001b[1;33m)\u001b[0m\u001b[1;33m\u001b[0m\u001b[1;33m\u001b[0m\u001b[0m\n\u001b[0m\u001b[0;32m    867\u001b[0m                 \u001b[1;32mreturn\u001b[0m \u001b[1;32mTrue\u001b[0m\u001b[1;33m\u001b[0m\u001b[1;33m\u001b[0m\u001b[0m\n\u001b[0;32m    868\u001b[0m \u001b[1;33m\u001b[0m\u001b[0m\n",
      "\u001b[1;32m~\\anaconda3\\lib\\site-packages\\joblib\\parallel.py\u001b[0m in \u001b[0;36m_dispatch\u001b[1;34m(self, batch)\u001b[0m\n\u001b[0;32m    782\u001b[0m         \u001b[1;32mwith\u001b[0m \u001b[0mself\u001b[0m\u001b[1;33m.\u001b[0m\u001b[0m_lock\u001b[0m\u001b[1;33m:\u001b[0m\u001b[1;33m\u001b[0m\u001b[1;33m\u001b[0m\u001b[0m\n\u001b[0;32m    783\u001b[0m             \u001b[0mjob_idx\u001b[0m \u001b[1;33m=\u001b[0m \u001b[0mlen\u001b[0m\u001b[1;33m(\u001b[0m\u001b[0mself\u001b[0m\u001b[1;33m.\u001b[0m\u001b[0m_jobs\u001b[0m\u001b[1;33m)\u001b[0m\u001b[1;33m\u001b[0m\u001b[1;33m\u001b[0m\u001b[0m\n\u001b[1;32m--> 784\u001b[1;33m             \u001b[0mjob\u001b[0m \u001b[1;33m=\u001b[0m \u001b[0mself\u001b[0m\u001b[1;33m.\u001b[0m\u001b[0m_backend\u001b[0m\u001b[1;33m.\u001b[0m\u001b[0mapply_async\u001b[0m\u001b[1;33m(\u001b[0m\u001b[0mbatch\u001b[0m\u001b[1;33m,\u001b[0m \u001b[0mcallback\u001b[0m\u001b[1;33m=\u001b[0m\u001b[0mcb\u001b[0m\u001b[1;33m)\u001b[0m\u001b[1;33m\u001b[0m\u001b[1;33m\u001b[0m\u001b[0m\n\u001b[0m\u001b[0;32m    785\u001b[0m             \u001b[1;31m# A job can complete so quickly than its callback is\u001b[0m\u001b[1;33m\u001b[0m\u001b[1;33m\u001b[0m\u001b[1;33m\u001b[0m\u001b[0m\n\u001b[0;32m    786\u001b[0m             \u001b[1;31m# called before we get here, causing self._jobs to\u001b[0m\u001b[1;33m\u001b[0m\u001b[1;33m\u001b[0m\u001b[1;33m\u001b[0m\u001b[0m\n",
      "\u001b[1;32m~\\anaconda3\\lib\\site-packages\\joblib\\_parallel_backends.py\u001b[0m in \u001b[0;36mapply_async\u001b[1;34m(self, func, callback)\u001b[0m\n\u001b[0;32m    206\u001b[0m     \u001b[1;32mdef\u001b[0m \u001b[0mapply_async\u001b[0m\u001b[1;33m(\u001b[0m\u001b[0mself\u001b[0m\u001b[1;33m,\u001b[0m \u001b[0mfunc\u001b[0m\u001b[1;33m,\u001b[0m \u001b[0mcallback\u001b[0m\u001b[1;33m=\u001b[0m\u001b[1;32mNone\u001b[0m\u001b[1;33m)\u001b[0m\u001b[1;33m:\u001b[0m\u001b[1;33m\u001b[0m\u001b[1;33m\u001b[0m\u001b[0m\n\u001b[0;32m    207\u001b[0m         \u001b[1;34m\"\"\"Schedule a func to be run\"\"\"\u001b[0m\u001b[1;33m\u001b[0m\u001b[1;33m\u001b[0m\u001b[0m\n\u001b[1;32m--> 208\u001b[1;33m         \u001b[0mresult\u001b[0m \u001b[1;33m=\u001b[0m \u001b[0mImmediateResult\u001b[0m\u001b[1;33m(\u001b[0m\u001b[0mfunc\u001b[0m\u001b[1;33m)\u001b[0m\u001b[1;33m\u001b[0m\u001b[1;33m\u001b[0m\u001b[0m\n\u001b[0m\u001b[0;32m    209\u001b[0m         \u001b[1;32mif\u001b[0m \u001b[0mcallback\u001b[0m\u001b[1;33m:\u001b[0m\u001b[1;33m\u001b[0m\u001b[1;33m\u001b[0m\u001b[0m\n\u001b[0;32m    210\u001b[0m             \u001b[0mcallback\u001b[0m\u001b[1;33m(\u001b[0m\u001b[0mresult\u001b[0m\u001b[1;33m)\u001b[0m\u001b[1;33m\u001b[0m\u001b[1;33m\u001b[0m\u001b[0m\n",
      "\u001b[1;32m~\\anaconda3\\lib\\site-packages\\joblib\\_parallel_backends.py\u001b[0m in \u001b[0;36m__init__\u001b[1;34m(self, batch)\u001b[0m\n\u001b[0;32m    570\u001b[0m         \u001b[1;31m# Don't delay the application, to avoid keeping the input\u001b[0m\u001b[1;33m\u001b[0m\u001b[1;33m\u001b[0m\u001b[1;33m\u001b[0m\u001b[0m\n\u001b[0;32m    571\u001b[0m         \u001b[1;31m# arguments in memory\u001b[0m\u001b[1;33m\u001b[0m\u001b[1;33m\u001b[0m\u001b[1;33m\u001b[0m\u001b[0m\n\u001b[1;32m--> 572\u001b[1;33m         \u001b[0mself\u001b[0m\u001b[1;33m.\u001b[0m\u001b[0mresults\u001b[0m \u001b[1;33m=\u001b[0m \u001b[0mbatch\u001b[0m\u001b[1;33m(\u001b[0m\u001b[1;33m)\u001b[0m\u001b[1;33m\u001b[0m\u001b[1;33m\u001b[0m\u001b[0m\n\u001b[0m\u001b[0;32m    573\u001b[0m \u001b[1;33m\u001b[0m\u001b[0m\n\u001b[0;32m    574\u001b[0m     \u001b[1;32mdef\u001b[0m \u001b[0mget\u001b[0m\u001b[1;33m(\u001b[0m\u001b[0mself\u001b[0m\u001b[1;33m)\u001b[0m\u001b[1;33m:\u001b[0m\u001b[1;33m\u001b[0m\u001b[1;33m\u001b[0m\u001b[0m\n",
      "\u001b[1;32m~\\anaconda3\\lib\\site-packages\\joblib\\parallel.py\u001b[0m in \u001b[0;36m__call__\u001b[1;34m(self)\u001b[0m\n\u001b[0;32m    261\u001b[0m         \u001b[1;32mwith\u001b[0m \u001b[0mparallel_backend\u001b[0m\u001b[1;33m(\u001b[0m\u001b[0mself\u001b[0m\u001b[1;33m.\u001b[0m\u001b[0m_backend\u001b[0m\u001b[1;33m,\u001b[0m \u001b[0mn_jobs\u001b[0m\u001b[1;33m=\u001b[0m\u001b[0mself\u001b[0m\u001b[1;33m.\u001b[0m\u001b[0m_n_jobs\u001b[0m\u001b[1;33m)\u001b[0m\u001b[1;33m:\u001b[0m\u001b[1;33m\u001b[0m\u001b[1;33m\u001b[0m\u001b[0m\n\u001b[0;32m    262\u001b[0m             return [func(*args, **kwargs)\n\u001b[1;32m--> 263\u001b[1;33m                     for func, args, kwargs in self.items]\n\u001b[0m\u001b[0;32m    264\u001b[0m \u001b[1;33m\u001b[0m\u001b[0m\n\u001b[0;32m    265\u001b[0m     \u001b[1;32mdef\u001b[0m \u001b[0m__reduce__\u001b[0m\u001b[1;33m(\u001b[0m\u001b[0mself\u001b[0m\u001b[1;33m)\u001b[0m\u001b[1;33m:\u001b[0m\u001b[1;33m\u001b[0m\u001b[1;33m\u001b[0m\u001b[0m\n",
      "\u001b[1;32m~\\anaconda3\\lib\\site-packages\\joblib\\parallel.py\u001b[0m in \u001b[0;36m<listcomp>\u001b[1;34m(.0)\u001b[0m\n\u001b[0;32m    261\u001b[0m         \u001b[1;32mwith\u001b[0m \u001b[0mparallel_backend\u001b[0m\u001b[1;33m(\u001b[0m\u001b[0mself\u001b[0m\u001b[1;33m.\u001b[0m\u001b[0m_backend\u001b[0m\u001b[1;33m,\u001b[0m \u001b[0mn_jobs\u001b[0m\u001b[1;33m=\u001b[0m\u001b[0mself\u001b[0m\u001b[1;33m.\u001b[0m\u001b[0m_n_jobs\u001b[0m\u001b[1;33m)\u001b[0m\u001b[1;33m:\u001b[0m\u001b[1;33m\u001b[0m\u001b[1;33m\u001b[0m\u001b[0m\n\u001b[0;32m    262\u001b[0m             return [func(*args, **kwargs)\n\u001b[1;32m--> 263\u001b[1;33m                     for func, args, kwargs in self.items]\n\u001b[0m\u001b[0;32m    264\u001b[0m \u001b[1;33m\u001b[0m\u001b[0m\n\u001b[0;32m    265\u001b[0m     \u001b[1;32mdef\u001b[0m \u001b[0m__reduce__\u001b[0m\u001b[1;33m(\u001b[0m\u001b[0mself\u001b[0m\u001b[1;33m)\u001b[0m\u001b[1;33m:\u001b[0m\u001b[1;33m\u001b[0m\u001b[1;33m\u001b[0m\u001b[0m\n",
      "\u001b[1;32m~\\anaconda3\\lib\\site-packages\\sklearn\\neighbors\\_base.py\u001b[0m in \u001b[0;36m_tree_query_parallel_helper\u001b[1;34m(tree, *args, **kwargs)\u001b[0m\n\u001b[0;32m    490\u001b[0m     \u001b[0munder\u001b[0m \u001b[0mPyPy\u001b[0m\u001b[1;33m.\u001b[0m\u001b[1;33m\u001b[0m\u001b[1;33m\u001b[0m\u001b[0m\n\u001b[0;32m    491\u001b[0m     \"\"\"\n\u001b[1;32m--> 492\u001b[1;33m     \u001b[1;32mreturn\u001b[0m \u001b[0mtree\u001b[0m\u001b[1;33m.\u001b[0m\u001b[0mquery\u001b[0m\u001b[1;33m(\u001b[0m\u001b[1;33m*\u001b[0m\u001b[0margs\u001b[0m\u001b[1;33m,\u001b[0m \u001b[1;33m**\u001b[0m\u001b[0mkwargs\u001b[0m\u001b[1;33m)\u001b[0m\u001b[1;33m\u001b[0m\u001b[1;33m\u001b[0m\u001b[0m\n\u001b[0m\u001b[0;32m    493\u001b[0m \u001b[1;33m\u001b[0m\u001b[0m\n\u001b[0;32m    494\u001b[0m \u001b[1;33m\u001b[0m\u001b[0m\n",
      "\u001b[1;31mKeyboardInterrupt\u001b[0m: "
     ]
    }
   ],
   "source": [
    "accuracy = []\n",
    "\n",
    "for i in range(10):\n",
    "    clf = KNeighborsClassifier( n_neighbors = int(y_train.sum()**(1/(i+1))))\n",
    "    clf.fit(X_train, y_train)\n",
    "    predictions = clf.predict(X_test)\n",
    "    accuracy.append(accuracy_score(predictions, y_test))"
   ]
  },
  {
   "cell_type": "markdown",
   "metadata": {},
   "source": [
    "On observe sur le graphique que nous obtenons les meilleurs résultats pour la racine 6ème de 1/n. Pour s'assurer de la généralisation de notre modèle nous allons réaliser une 5-validation croisée stratifieiée. La validation croisée stratifiée sur globalement le meme principe que la validation croisée expliquée dans la partie préliminaire, la difference est qu'elle essaye de répartir les données dans le fold de manière a avoir la même fréquence d'apparition des differentes étiquettes que dans le jeu de données original."
   ]
  },
  {
   "cell_type": "code",
   "execution_count": null,
   "metadata": {},
   "outputs": [],
   "source": [
    "fig = go.Figure()\n",
    "fig.add_trace(go.Scatter(x=np.linspace(1,len(accuracy),len(accuracy)), y=accuracy,mode='lines'))\n",
    "fig.update_yaxes(title_text=\"Accuracy\")\n",
    "fig.show()"
   ]
  },
  {
   "cell_type": "markdown",
   "metadata": {},
   "source": [
    "On définit un pipeline dont le but est de réaliser plusiseurs opérations successivement. Ici, le pipeline nous sert a automatiquement renormaliser les données."
   ]
  },
  {
   "cell_type": "code",
   "execution_count": null,
   "metadata": {},
   "outputs": [],
   "source": [
    "stepsknn = [('scaler', StandardScaler()), ('kNN', KNeighborsClassifier(n_neighbors = int(y_sample4.count()**(1/6))))] \n",
    "pipelineknn = Pipeline(stepsknn)\n"
   ]
  },
  {
   "cell_type": "markdown",
   "metadata": {},
   "source": [
    "Ici nous définissons la 5-validation croisée en définissant \"accuracy\" comme métrique de performance."
   ]
  },
  {
   "cell_type": "code",
   "execution_count": null,
   "metadata": {},
   "outputs": [],
   "source": [
    "scoreknn = cross_val_score(pipelineknn, X, y, cv=5, scoring = make_scorer(accuracy_score))"
   ]
  },
  {
   "cell_type": "markdown",
   "metadata": {},
   "source": [
    "Les résultats obtenus avec l'hyperparamètre convergent en moyenne vers ceux obtenus avec la selection de paramètre automatique."
   ]
  },
  {
   "cell_type": "code",
   "execution_count": null,
   "metadata": {},
   "outputs": [],
   "source": [
    "fig = go.Figure(layout = go.Layout(plot_bgcolor='orange'))\n",
    "fig.add_trace(go.Scatter(x=np.linspace(1,5,5), y=scoreknn,mode='lines', name='accuracy according to the fold',line=dict(color=\"red\")))\n",
    "fig.update_xaxes(title_text=\"Fold\")\n",
    "fig.update_yaxes(title_text=\"Accuracy kNN\")\n",
    "fig.show()"
   ]
  },
  {
   "cell_type": "markdown",
   "metadata": {},
   "source": [
    " "
   ]
  },
  {
   "cell_type": "markdown",
   "metadata": {},
   "source": [
    " "
   ]
  },
  {
   "cell_type": "markdown",
   "metadata": {},
   "source": [
    "# 2.3 SVM"
   ]
  },
  {
   "cell_type": "markdown",
   "metadata": {},
   "source": [
    "## Premier test"
   ]
  },
  {
   "cell_type": "markdown",
   "metadata": {},
   "source": [
    "On réeffectue les mêmes test que dans la partie précednete avec le SVM. La particularité de SGDClassifier est qu'il s'agit du SVM optimisé via la méthode du gradient stochastique. On obtient un score d'environ 0.75 avec les valeurs par défaut."
   ]
  },
  {
   "cell_type": "code",
   "execution_count": null,
   "metadata": {},
   "outputs": [],
   "source": [
    "classifier = SGDClassifier()\n",
    "classifier.fit(X_train , y_train )\n",
    "y_pred =  classifier.predict(X_test)\n",
    "print(accuracy_score(y_test,y_pred))"
   ]
  },
  {
   "cell_type": "markdown",
   "metadata": {},
   "source": [
    "On choisit ainsi d'observer les performances pour un certain nombre de paramètres couramment utilisés. Ce paramètre représente l'hyperparamètre du problème de régularisation."
   ]
  },
  {
   "cell_type": "code",
   "execution_count": null,
   "metadata": {},
   "outputs": [],
   "source": [
    "accuracy = []\n",
    "param_C = [0.0001, 0.001, 0.01, 0.1, 1, 10, 100, 1000]\n",
    "for i in param_C :\n",
    "    classifier = SGDClassifier(alpha=i)\n",
    "    classifier.fit(X_train , y_train )\n",
    "    y_pred =  classifier.predict(X_test)\n",
    "    accuracy.append(accuracy_score(y_test,y_pred))\n",
    "fig = go.Figure(layout = go.Layout(plot_bgcolor='orange'))\n",
    "fig.add_trace(go.Scatter(x=np.linspace(1,8,8), y=accuracy,mode='lines', name='accuracy according to the fold',line=dict(color=\"red\")))\n",
    "fig.update_xaxes(title_text=\"hyperparameters\")\n",
    "fig.update_yaxes(title_text=\"Accuracy SGD\")\n",
    "fig.show()"
   ]
  },
  {
   "cell_type": "markdown",
   "metadata": {},
   "source": [
    "Après avoir observé que l'on obtenait les meilleures performances pour alpha=1, on réitère le test en modifiant cette fois le nombre d'itérations maximales ."
   ]
  },
  {
   "cell_type": "code",
   "execution_count": null,
   "metadata": {},
   "outputs": [],
   "source": [
    "accuracy = []\n",
    "n_iters = [5, 10, 20, 50, 100, 1000, 10000, 100000, 1000000]\n",
    "for n in n_iters :\n",
    "    classifier = SGDClassifier(alpha=0.01, max_iter=n)\n",
    "    classifier.fit(X_train , y_train )\n",
    "    y_pred =  classifier.predict(X_test)\n",
    "    accuracy.append(accuracy_score(y_test,y_pred))"
   ]
  },
  {
   "cell_type": "markdown",
   "metadata": {},
   "source": [
    "On observe qu'augmenter le nombre d'itérations maximale n'augmente pas drastiquement les performances de notre algorithme qui se rapprochent deja des performances de l'algorithme par défaut."
   ]
  },
  {
   "cell_type": "code",
   "execution_count": null,
   "metadata": {},
   "outputs": [],
   "source": [
    "fig = go.Figure(layout = go.Layout(plot_bgcolor='orange'))\n",
    "fig.add_trace(go.Scatter(x=np.linspace(1,8,8), y=accuracy,mode='lines', name='accuracy according to the fold',line=dict(color=\"red\")))\n",
    "fig.update_xaxes(title_text=\"hyperparameters\")\n",
    "fig.update_yaxes(title_text=\"Accuracy SGD\")\n",
    "fig.show()"
   ]
  },
  {
   "cell_type": "markdown",
   "metadata": {},
   "source": [
    " "
   ]
  },
  {
   "cell_type": "markdown",
   "metadata": {},
   "source": [
    " "
   ]
  },
  {
   "cell_type": "markdown",
   "metadata": {},
   "source": [
    "# 2.4 Random Forest"
   ]
  },
  {
   "cell_type": "markdown",
   "metadata": {},
   "source": [
    "## Import des libraries et des données"
   ]
  },
  {
   "cell_type": "code",
   "execution_count": null,
   "metadata": {},
   "outputs": [],
   "source": [
    "from sklearn.ensemble import RandomForestClassifier\n",
    "from sklearn.datasets import make_classification\n",
    "import numpy as np\n",
    "from sklearn.metrics import accuracy_score\n",
    "from sklearn.model_selection import train_test_split\n",
    "import plotly.graph_objects as go\n",
    "# Create random data with numpy\n",
    "import numpy as np\n",
    "import time"
   ]
  },
  {
   "cell_type": "code",
   "execution_count": null,
   "metadata": {},
   "outputs": [],
   "source": [
    "df = pd.read_csv('clean_data.csv')"
   ]
  },
  {
   "cell_type": "markdown",
   "metadata": {},
   "source": [
    "## Définition de X et Y"
   ]
  },
  {
   "cell_type": "markdown",
   "metadata": {},
   "source": [
    "Y = variable d'intérêt\n",
    "\n",
    "X = données sur les matchs avant qu'ils aient lieu"
   ]
  },
  {
   "cell_type": "code",
   "execution_count": null,
   "metadata": {},
   "outputs": [],
   "source": [
    "X = df.drop([\"winner\"],axis=1)\n",
    "Y = df.loc[:,\"winner\"]"
   ]
  },
  {
   "cell_type": "markdown",
   "metadata": {},
   "source": [
    "## On sépare les données entre train et test"
   ]
  },
  {
   "cell_type": "code",
   "execution_count": null,
   "metadata": {},
   "outputs": [],
   "source": [
    "x_train,x_test = train_test_split(X, test_size=0.33, random_state=42)\n",
    "y_train, y_test = train_test_split(Y, test_size=0.33, random_state=42)"
   ]
  },
  {
   "cell_type": "markdown",
   "metadata": {},
   "source": [
    "## Algorithme"
   ]
  },
  {
   "cell_type": "markdown",
   "metadata": {},
   "source": [
    "Max_depth = profondeur maximale pour chaque arbre de la forêt (fixe donc le nombre de noeuds). Ici fixé à 20.\n",
    "\n",
    "n_estimators = nombre d'arbres dans la forêt. Ici fixé à 35."
   ]
  },
  {
   "cell_type": "code",
   "execution_count": null,
   "metadata": {},
   "outputs": [],
   "source": [
    "clf = RandomForestClassifier(max_depth=20, n_estimators=35)\n",
    "clf.fit(x_train, y_train)\n",
    "predictions = clf.predict(x_test)\n",
    "print(accuracy_score(predictions, y_test))"
   ]
  },
  {
   "cell_type": "markdown",
   "metadata": {},
   "source": [
    "## Hyperparameter tuning - Comment selectionner le nombre d'arbres optimal"
   ]
  },
  {
   "cell_type": "markdown",
   "metadata": {},
   "source": [
    "Dans cette partie, nous avons essayé 100 valeurs differentes pour le paramètre n_estimators pour voir combien d'arbres de décision permettent de créer la meilleure forêt. Nous observons les résultats dans un graphe."
   ]
  },
  {
   "cell_type": "code",
   "execution_count": null,
   "metadata": {},
   "outputs": [],
   "source": [
    "accuracy = []\n",
    "\n",
    "for i in range(100):\n",
    "    clf = RandomForestClassifier(max_depth=50, n_estimators=i+1)\n",
    "    clf.fit(x_train, y_train)\n",
    "    predictions = clf.predict(x_test)\n",
    "    accuracy.append(accuracy_score(predictions, y_test))\n",
    "    print(i)"
   ]
  },
  {
   "cell_type": "code",
   "execution_count": null,
   "metadata": {},
   "outputs": [],
   "source": [
    "# Create traces\n",
    "fig = go.Figure()\n",
    "fig.add_trace(go.Scatter(x=np.linspace(1,len(accuracy),len(accuracy)), y=accuracy,mode='lines', name='accuracy according to number of trees', ))\n",
    "fig.update_xaxes(title_text=\"number of trees\")\n",
    "fig.update_yaxes(title_text=\"Accuracy\")\n",
    "fig.show()\n"
   ]
  },
  {
   "cell_type": "markdown",
   "metadata": {},
   "source": [
    "La forêt optimale est donc formée de 35 arbres."
   ]
  },
  {
   "cell_type": "markdown",
   "metadata": {},
   "source": [
    "## Quelle profondeur optimale ?"
   ]
  },
  {
   "cell_type": "markdown",
   "metadata": {},
   "source": [
    "Dans cette partie, nous avons essayé 100 valeurs differentes pour le paramètre max_depth pour voir jusqu'où nos arbres de décision peuvent aller sans sur apprendre les données. Nous observons les résultats dans un graphe."
   ]
  },
  {
   "cell_type": "code",
   "execution_count": null,
   "metadata": {},
   "outputs": [],
   "source": [
    "accuracy_depth = np.zeros(100)\n",
    "\n",
    "for i in range(100):\n",
    "    clf = RandomForestClassifier(max_depth=i+1, n_estimators=35)\n",
    "    clf.fit(x_train, y_train)\n",
    "    predictions = clf.predict(x_test)\n",
    "    accuracy_depth[i] = accuracy_score(predictions, y_test)"
   ]
  },
  {
   "cell_type": "code",
   "execution_count": null,
   "metadata": {},
   "outputs": [],
   "source": [
    "fig = go.Figure(layout = go.Layout(\n",
    "    plot_bgcolor='pink'\n",
    "))\n",
    "fig.add_trace(go.Scatter(x=np.linspace(1,len(accuracy_depth),len(accuracy_depth)), y=accuracy_depth,mode='lines', name='accuracy according to maximum depth of trees',line=dict(color=\"red\")))\n",
    "fig.update_xaxes(title_text=\"maximum depth\")\n",
    "fig.update_yaxes(title_text=\"Accuracy\")\n",
    "fig.show()"
   ]
  },
  {
   "cell_type": "markdown",
   "metadata": {},
   "source": [
    "La profondeur maximale adéquate est 20"
   ]
  },
  {
   "cell_type": "markdown",
   "metadata": {},
   "source": [
    " "
   ]
  },
  {
   "cell_type": "markdown",
   "metadata": {},
   "source": [
    " "
   ]
  },
  {
   "cell_type": "markdown",
   "metadata": {},
   "source": [
    " "
   ]
  },
  {
   "cell_type": "markdown",
   "metadata": {},
   "source": [
    "# 3. Approche Deep Learning"
   ]
  },
  {
   "cell_type": "markdown",
   "metadata": {},
   "source": [
    " "
   ]
  },
  {
   "cell_type": "markdown",
   "metadata": {},
   "source": [
    "# 3.1 Création d'un réseau de neurones avec Keras"
   ]
  },
  {
   "cell_type": "markdown",
   "metadata": {},
   "source": [
    "## Import des librairies et des données"
   ]
  },
  {
   "cell_type": "code",
   "execution_count": null,
   "metadata": {},
   "outputs": [],
   "source": [
    "from numpy import loadtxt\n",
    "from keras.models import Sequential\n",
    "from keras.layers import Dense\n",
    "from sklearn.model_selection import train_test_split\n",
    "from sklearn.metrics import accuracy_score\n",
    "import plotly.graph_objects as go"
   ]
  },
  {
   "cell_type": "code",
   "execution_count": null,
   "metadata": {},
   "outputs": [],
   "source": [
    "df = pd.read_csv('clean_data.csv')"
   ]
  },
  {
   "cell_type": "markdown",
   "metadata": {},
   "source": [
    "Séparer Y variable d'intérêt et X l'information"
   ]
  },
  {
   "cell_type": "code",
   "execution_count": null,
   "metadata": {},
   "outputs": [],
   "source": [
    "df_X = df.drop(['winner'], axis = 1)\n",
    "df_Y = df['winner']"
   ]
  },
  {
   "cell_type": "markdown",
   "metadata": {},
   "source": [
    "Séparation entre train et test"
   ]
  },
  {
   "cell_type": "code",
   "execution_count": null,
   "metadata": {},
   "outputs": [],
   "source": [
    "x_train,x_test = train_test_split(df_X, test_size=0.33, random_state=42)\n",
    "y_train, y_test = train_test_split(df_Y, test_size=0.33, random_state=42)"
   ]
  },
  {
   "cell_type": "code",
   "execution_count": null,
   "metadata": {},
   "outputs": [],
   "source": [
    "#to use loadtxt we need csv but we could have done otherwise \n",
    "x_train.to_csv('dataset_x_train.csv',index=False)\n",
    "x_test.to_csv('dataset_x_test.csv',index=False)\n",
    "y_train.to_csv('dataset_y_train.csv',index=False)\n",
    "y_test.to_csv('dataset_y_test.csv',index=False)"
   ]
  },
  {
   "cell_type": "markdown",
   "metadata": {},
   "source": [
    "Ici, nous avons recréé des csv pour pouvoir utiliser la fonction loadtxt directement. Cette étape n'était pas nécessaire si on avait utilisé une fonction qui prend en argument un dataframe."
   ]
  },
  {
   "cell_type": "code",
   "execution_count": null,
   "metadata": {},
   "outputs": [],
   "source": [
    "# load the dataset\n",
    "x_train = loadtxt('dataset_x_train.csv', skiprows = 1,delimiter=',')\n",
    "x_test = loadtxt('dataset_x_test.csv', skiprows = 1,delimiter=',')\n",
    "y_train = loadtxt('dataset_y_train.csv', skiprows = 1,delimiter=',')\n",
    "y_test = loadtxt('dataset_y_test.csv', skiprows = 1,delimiter=',')"
   ]
  },
  {
   "cell_type": "markdown",
   "metadata": {},
   "source": [
    "## Création du modèle"
   ]
  },
  {
   "cell_type": "markdown",
   "metadata": {},
   "source": [
    "## Hyperparamètres à fixer pour les modèles:"
   ]
  },
  {
   "cell_type": "markdown",
   "metadata": {},
   "source": [
    "Nous avons tester les modèles ci-dessous en modifiant les hyperparamètres de multiple fois."
   ]
  },
  {
   "cell_type": "code",
   "execution_count": null,
   "metadata": {},
   "outputs": [],
   "source": [
    "nb_neurones = 70 #chose number of neurones in hidden layers (1rst and last layer's neurones are fixed)\n",
    "ep = 150 #chose number of epochs\n",
    "bs = 30 #chose batch_size"
   ]
  },
  {
   "cell_type": "markdown",
   "metadata": {},
   "source": [
    "## Modèle à 3 couches cachées"
   ]
  },
  {
   "cell_type": "markdown",
   "metadata": {},
   "source": [
    "Definition des couches"
   ]
  },
  {
   "cell_type": "code",
   "execution_count": null,
   "metadata": {},
   "outputs": [],
   "source": [
    "model = Sequential()\n",
    "model.add(Dense(nb_neurones, input_dim=x_train.shape[1], activation='relu'))\n",
    "model.add(Dense(nb_neurones, activation= 'relu'))\n",
    "model.add(Dense(nb_neurones, activation = 'relu'))\n",
    "model.add(Dense(1, activation='sigmoid'))"
   ]
  },
  {
   "cell_type": "markdown",
   "metadata": {},
   "source": [
    "Choix de la fonction de perte, de l'optimiseur et de la métrique"
   ]
  },
  {
   "cell_type": "code",
   "execution_count": null,
   "metadata": {},
   "outputs": [],
   "source": [
    "model.compile(loss='binary_crossentropy', optimizer='adam', metrics=['accuracy'])"
   ]
  },
  {
   "cell_type": "markdown",
   "metadata": {},
   "source": [
    "On entraîne le réseau sur les données 'train'"
   ]
  },
  {
   "cell_type": "code",
   "execution_count": null,
   "metadata": {},
   "outputs": [],
   "source": [
    "res=model.fit(x_train, y_train,validation_data=(x_test,y_test), epochs=ep, batch_size=bs)"
   ]
  },
  {
   "cell_type": "markdown",
   "metadata": {},
   "source": [
    "Graphique représentant l'évolution de l'accuracy pour les données train et les données test."
   ]
  },
  {
   "cell_type": "code",
   "execution_count": null,
   "metadata": {},
   "outputs": [],
   "source": [
    "size_epochs = len(res.history[\"accuracy\"])\n",
    "epochs = np.linspace(0,size_epochs,size_epochs+1)"
   ]
  },
  {
   "cell_type": "code",
   "execution_count": null,
   "metadata": {},
   "outputs": [],
   "source": [
    "# Create traces\n",
    "fig = go.Figure()\n",
    "fig.add_trace(go.Scatter(x=epochs, y=res.history[\"accuracy\"],mode='lines', name='training set' ))\n",
    "fig.add_trace(go.Scatter(x=epochs, \n",
    "                         y=res.history[\"val_accuracy\"],\n",
    "                         mode='lines',\n",
    "                         name='test set',\n",
    "                         marker=dict(\n",
    "                          color='red'\n",
    "                          )))\n",
    "\n",
    "#fig.update_layout(legend_title_text = \"Accuracy evolution according to number of trees\")\n",
    "fig.update_xaxes(title_text=\"Epoch\")\n",
    "fig.update_yaxes(title_text=\"Accuracy\")\n",
    "fig.show()\n"
   ]
  },
  {
   "cell_type": "markdown",
   "metadata": {},
   "source": [
    "## Modèle à 5 couches cachées"
   ]
  },
  {
   "cell_type": "code",
   "execution_count": null,
   "metadata": {},
   "outputs": [],
   "source": [
    "model1 = Sequential()\n",
    "model1.add(Dense(nb_neurones, input_dim=(x_train.shape[1]), activation='relu'))\n",
    "model1.add(Dense(nb_neurones, activation='relu'))\n",
    "model1.add(Dense(nb_neurones, activation = 'relu'))\n",
    "model1.add(Dense(nb_neurones, activation = 'relu'))\n",
    "model1.add(Dense(nb_neurones, activation = 'relu'))\n",
    "model1.add(Dense(1, activation='sigmoid'))"
   ]
  },
  {
   "cell_type": "code",
   "execution_count": null,
   "metadata": {},
   "outputs": [],
   "source": [
    "model1.compile(loss='binary_crossentropy', optimizer='adam', metrics=['accuracy'])"
   ]
  },
  {
   "cell_type": "code",
   "execution_count": null,
   "metadata": {},
   "outputs": [],
   "source": [
    "res1=model1.fit(x_train, y_train,validation_data=(x_test,y_test), epochs=150, batch_size=bs)"
   ]
  },
  {
   "cell_type": "code",
   "execution_count": null,
   "metadata": {},
   "outputs": [],
   "source": [
    "size_epochs = len(res1.history[\"accuracy\"])\n",
    "epochs = np.linspace(0,size_epochs,size_epochs+1)"
   ]
  },
  {
   "cell_type": "code",
   "execution_count": null,
   "metadata": {},
   "outputs": [],
   "source": [
    "# Create traces\n",
    "fig = go.Figure()\n",
    "fig.add_trace(go.Scatter(x=epochs, y=res1.history[\"accuracy\"],mode='lines', name='training set' ))\n",
    "fig.add_trace(go.Scatter(x=epochs, \n",
    "                         y=res1.history[\"val_accuracy\"],\n",
    "                         mode='lines',\n",
    "                         name='test set',\n",
    "                         marker=dict(\n",
    "                          color='red'\n",
    "                          )))\n",
    "\n",
    "#fig.update_layout(legend_title_text = \"Accuracy evolution according to number of trees\")\n",
    "fig.update_xaxes(title_text=\"Epoch\")\n",
    "fig.update_yaxes(title_text=\"Accuracy\")\n",
    "fig.show()"
   ]
  },
  {
   "cell_type": "markdown",
   "metadata": {},
   "source": [
    "## Modèle à 7 couches cachées"
   ]
  },
  {
   "cell_type": "code",
   "execution_count": null,
   "metadata": {},
   "outputs": [],
   "source": [
    "model2 = Sequential()\n",
    "model2.add(Dense(nb_neurones, input_dim=x_train.shape[1], activation='relu'))\n",
    "model2.add(Dense(nb_neurones, activation='relu'))\n",
    "model2.add(Dense(nb_neurones, activation = 'relu'))\n",
    "model2.add(Dense(nb_neurones, activation = 'relu'))\n",
    "model2.add(Dense(nb_neurones, activation = 'relu'))\n",
    "model2.add(Dense(nb_neurones, activation = 'relu'))\n",
    "model2.add(Dense(nb_neurones, activation = 'relu'))\n",
    "model2.add(Dense(1, activation='sigmoid'))"
   ]
  },
  {
   "cell_type": "code",
   "execution_count": null,
   "metadata": {},
   "outputs": [],
   "source": [
    "model2.compile(loss='binary_crossentropy', optimizer='adam', metrics=['accuracy'])"
   ]
  },
  {
   "cell_type": "code",
   "execution_count": null,
   "metadata": {},
   "outputs": [],
   "source": [
    "res2=model2.fit(x_train, y_train,validation_data=(x_test,y_test), epochs=ep, batch_size=bs)"
   ]
  },
  {
   "cell_type": "code",
   "execution_count": null,
   "metadata": {},
   "outputs": [],
   "source": [
    "size_epochs = len(res2.history[\"accuracy\"])\n",
    "epochs = np.linspace(0,size_epochs,size_epochs+1)"
   ]
  },
  {
   "cell_type": "code",
   "execution_count": null,
   "metadata": {},
   "outputs": [],
   "source": [
    "# Create traces\n",
    "fig = go.Figure()\n",
    "fig.add_trace(go.Scatter(x=epochs, y=res2.history[\"accuracy\"],mode='lines', name='training set' ))\n",
    "fig.add_trace(go.Scatter(x=epochs, \n",
    "                         y=res2.history[\"val_accuracy\"],\n",
    "                         mode='lines',\n",
    "                         name='test set',\n",
    "                         marker=dict(\n",
    "                          color='red'\n",
    "                          )))\n",
    "\n",
    "#fig.update_layout(legend_title_text = \"Accuracy evolution according to number of trees\")\n",
    "fig.update_xaxes(title_text=\"Epoch\")\n",
    "fig.update_yaxes(title_text=\"Accuracy\")\n",
    "fig.show()"
   ]
  },
  {
   "cell_type": "markdown",
   "metadata": {},
   "source": [
    "## Modèle à 10 couches cachées"
   ]
  },
  {
   "cell_type": "code",
   "execution_count": null,
   "metadata": {},
   "outputs": [],
   "source": [
    "model3 = Sequential()\n",
    "model3.add(Dense(nb_neurones, input_dim=x_train.shape[1], activation='relu'))\n",
    "model3.add(Dense(nb_neurones, activation='relu'))\n",
    "model3.add(Dense(nb_neurones, activation = 'relu'))\n",
    "model3.add(Dense(nb_neurones, activation = 'relu'))\n",
    "model3.add(Dense(nb_neurones, activation = 'relu'))\n",
    "model3.add(Dense(nb_neurones, activation = 'relu'))\n",
    "model3.add(Dense(nb_neurones, activation = 'relu'))\n",
    "model3.add(Dense(1, activation='sigmoid'))"
   ]
  },
  {
   "cell_type": "code",
   "execution_count": null,
   "metadata": {},
   "outputs": [],
   "source": [
    "model3.compile(loss='binary_crossentropy', optimizer='adam', metrics=['accuracy'])"
   ]
  },
  {
   "cell_type": "code",
   "execution_count": null,
   "metadata": {},
   "outputs": [],
   "source": [
    "res3=model3.fit(x_train, y_train,validation_data=(x_test,y_test), epochs=ep, batch_size=bs)"
   ]
  },
  {
   "cell_type": "code",
   "execution_count": null,
   "metadata": {},
   "outputs": [],
   "source": [
    "size_epochs = len(res3.history[\"accuracy\"])\n",
    "epochs = np.linspace(0,size_epochs,size_epochs+1)"
   ]
  },
  {
   "cell_type": "code",
   "execution_count": null,
   "metadata": {},
   "outputs": [],
   "source": [
    "# Create traces\n",
    "fig = go.Figure()\n",
    "fig.add_trace(go.Scatter(x=epochs, y=res3.history[\"accuracy\"],mode='lines', name='training set' ))\n",
    "fig.add_trace(go.Scatter(x=epochs, \n",
    "                         y=res3.history[\"val_accuracy\"],\n",
    "                         mode='lines',\n",
    "                         name='test set',\n",
    "                         marker=dict(\n",
    "                          color='red'\n",
    "                          )))\n",
    "\n",
    "#fig.update_layout(legend_title_text = \"Accuracy evolution according to number of trees\")\n",
    "fig.update_xaxes(title_text=\"Epoch\")\n",
    "fig.update_yaxes(title_text=\"Accuracy\")\n",
    "fig.show()"
   ]
  }
 ],
 "metadata": {
  "kernelspec": {
   "display_name": "Python 3",
   "language": "python",
   "name": "python3"
  },
  "language_info": {
   "codemirror_mode": {
    "name": "ipython",
    "version": 3
   },
   "file_extension": ".py",
   "mimetype": "text/x-python",
   "name": "python",
   "nbconvert_exporter": "python",
   "pygments_lexer": "ipython3",
   "version": "3.7.9"
  }
 },
 "nbformat": 4,
 "nbformat_minor": 4
}
